{
 "cells": [
  {
   "cell_type": "markdown",
   "id": "15c11f43",
   "metadata": {
    "papermill": {
     "duration": 0.004587,
     "end_time": "2024-09-07T08:19:58.255024",
     "exception": false,
     "start_time": "2024-09-07T08:19:58.250437",
     "status": "completed"
    },
    "tags": []
   },
   "source": [
    "# **Methode 1**"
   ]
  },
  {
   "cell_type": "code",
   "execution_count": 1,
   "id": "c13dad57",
   "metadata": {
    "_cell_guid": "b1076dfc-b9ad-4769-8c92-a6c4dae69d19",
    "_uuid": "8f2839f25d086af736a60e9eeb907d3b93b6e0e5",
    "execution": {
     "iopub.execute_input": "2024-09-07T08:19:58.265029Z",
     "iopub.status.busy": "2024-09-07T08:19:58.264343Z",
     "iopub.status.idle": "2024-09-07T08:20:16.038405Z",
     "shell.execute_reply": "2024-09-07T08:20:16.036675Z"
    },
    "papermill": {
     "duration": 17.782234,
     "end_time": "2024-09-07T08:20:16.041153",
     "exception": false,
     "start_time": "2024-09-07T08:19:58.258919",
     "status": "completed"
    },
    "tags": []
   },
   "outputs": [
    {
     "name": "stdout",
     "output_type": "stream",
     "text": [
      "Taille du vocabulaire : 6745\n"
     ]
    }
   ],
   "source": [
    "import pandas as pd\n",
    "import tensorflow as tf\n",
    "from tensorflow.keras.preprocessing.text import Tokenizer\n",
    "from tensorflow.keras.layers import Embedding, LSTM, Dense, Dropout\n",
    "from tensorflow.keras.models import Sequential\n",
    "from tensorflow.keras.utils import to_categorical\n",
    "from tensorflow.keras.optimizers import Adam\n",
    "from tensorflow.keras.callbacks import ModelCheckpoint, EarlyStopping\n",
    "from tensorflow.keras.regularizers import l2\n",
    "\n",
    "import pickle\n",
    "import numpy as np\n",
    "from sklearn.model_selection import train_test_split\n",
    "\n",
    "with open(\"/kaggle/input/pride-prejudice-subtitles-and-text/PP.txt\", \"r\", encoding=\"utf8\") as f:\n",
    "    data = f.read()\n",
    "\n",
    "# Prétraitement du texte\n",
    "text = data.replace('\\n', ' ').replace('\\r', ' ').replace('\\ufeff', ' ').replace('“', '').replace('”', '')\n",
    "text = ' '.join(text.split())\n",
    "\n",
    "tokenizer = Tokenizer()\n",
    "tokenizer.fit_on_texts([text])\n",
    "\n",
    "# Enregistrer le tokenizer\n",
    "with open('token.pkl', 'wb') as handle:\n",
    "    pickle.dump(tokenizer, handle)\n",
    "\n",
    "vocab_size = len(tokenizer.word_index) + 1\n",
    "print(f\"Taille du vocabulaire : {vocab_size}\")\n",
    "\n"
   ]
  },
  {
   "cell_type": "code",
   "execution_count": null,
   "id": "6c3711a3",
   "metadata": {
    "papermill": {
     "duration": 0.003577,
     "end_time": "2024-09-07T08:20:16.048708",
     "exception": false,
     "start_time": "2024-09-07T08:20:16.045131",
     "status": "completed"
    },
    "tags": []
   },
   "outputs": [],
   "source": []
  },
  {
   "cell_type": "code",
   "execution_count": 2,
   "id": "bcf33bc9",
   "metadata": {
    "execution": {
     "iopub.execute_input": "2024-09-07T08:20:16.058487Z",
     "iopub.status.busy": "2024-09-07T08:20:16.057672Z",
     "iopub.status.idle": "2024-09-07T08:20:16.679601Z",
     "shell.execute_reply": "2024-09-07T08:20:16.678428Z"
    },
    "papermill": {
     "duration": 0.630147,
     "end_time": "2024-09-07T08:20:16.682584",
     "exception": false,
     "start_time": "2024-09-07T08:20:16.052437",
     "status": "completed"
    },
    "tags": []
   },
   "outputs": [],
   "source": [
    "sequence_data = tokenizer.texts_to_sequences([text])[0]\n",
    "sequences = []\n",
    "for i in range(5, len(sequence_data)):\n",
    "    words = sequence_data[i-5:i+1]\n",
    "    sequences.append(words)\n",
    "\n",
    "sequences = np.array(sequences)\n",
    "\n"
   ]
  },
  {
   "cell_type": "code",
   "execution_count": 3,
   "id": "6c417646",
   "metadata": {
    "execution": {
     "iopub.execute_input": "2024-09-07T08:20:16.692703Z",
     "iopub.status.busy": "2024-09-07T08:20:16.691721Z",
     "iopub.status.idle": "2024-09-07T08:20:17.084940Z",
     "shell.execute_reply": "2024-09-07T08:20:17.083370Z"
    },
    "papermill": {
     "duration": 0.401816,
     "end_time": "2024-09-07T08:20:17.088362",
     "exception": false,
     "start_time": "2024-09-07T08:20:16.686546",
     "status": "completed"
    },
    "tags": []
   },
   "outputs": [],
   "source": [
    "# Diviser les données en entrée et sortie\n",
    "X = sequences[:, :-1]  \n",
    "y = sequences[:, -1]  \n",
    "y = to_categorical(y, num_classes=vocab_size)\n",
    "\n",
    "\n",
    "\n"
   ]
  },
  {
   "cell_type": "code",
   "execution_count": 4,
   "id": "1bd5fbce",
   "metadata": {
    "execution": {
     "iopub.execute_input": "2024-09-07T08:20:17.098473Z",
     "iopub.status.busy": "2024-09-07T08:20:17.098030Z",
     "iopub.status.idle": "2024-09-07T08:20:17.273204Z",
     "shell.execute_reply": "2024-09-07T08:20:17.271924Z"
    },
    "papermill": {
     "duration": 0.183661,
     "end_time": "2024-09-07T08:20:17.276211",
     "exception": false,
     "start_time": "2024-09-07T08:20:17.092550",
     "status": "completed"
    },
    "tags": []
   },
   "outputs": [
    {
     "data": {
      "text/html": [
       "<pre style=\"white-space:pre;overflow-x:auto;line-height:normal;font-family:Menlo,'DejaVu Sans Mono',consolas,'Courier New',monospace\"><span style=\"font-weight: bold\">Model: \"sequential\"</span>\n",
       "</pre>\n"
      ],
      "text/plain": [
       "\u001b[1mModel: \"sequential\"\u001b[0m\n"
      ]
     },
     "metadata": {},
     "output_type": "display_data"
    },
    {
     "data": {
      "text/html": [
       "<pre style=\"white-space:pre;overflow-x:auto;line-height:normal;font-family:Menlo,'DejaVu Sans Mono',consolas,'Courier New',monospace\">┏━━━━━━━━━━━━━━━━━━━━━━━━━━━━━━━━━┳━━━━━━━━━━━━━━━━━━━━━━━━┳━━━━━━━━━━━━━━━┓\n",
       "┃<span style=\"font-weight: bold\"> Layer (type)                    </span>┃<span style=\"font-weight: bold\"> Output Shape           </span>┃<span style=\"font-weight: bold\">       Param # </span>┃\n",
       "┡━━━━━━━━━━━━━━━━━━━━━━━━━━━━━━━━━╇━━━━━━━━━━━━━━━━━━━━━━━━╇━━━━━━━━━━━━━━━┩\n",
       "│ embedding (<span style=\"color: #0087ff; text-decoration-color: #0087ff\">Embedding</span>)           │ (<span style=\"color: #00d7ff; text-decoration-color: #00d7ff\">None</span>, <span style=\"color: #00af00; text-decoration-color: #00af00\">5</span>, <span style=\"color: #00af00; text-decoration-color: #00af00\">50</span>)          │       <span style=\"color: #00af00; text-decoration-color: #00af00\">337,250</span> │\n",
       "├─────────────────────────────────┼────────────────────────┼───────────────┤\n",
       "│ lstm (<span style=\"color: #0087ff; text-decoration-color: #0087ff\">LSTM</span>)                     │ (<span style=\"color: #00d7ff; text-decoration-color: #00d7ff\">None</span>, <span style=\"color: #00af00; text-decoration-color: #00af00\">120</span>)            │        <span style=\"color: #00af00; text-decoration-color: #00af00\">82,080</span> │\n",
       "├─────────────────────────────────┼────────────────────────┼───────────────┤\n",
       "│ dense (<span style=\"color: #0087ff; text-decoration-color: #0087ff\">Dense</span>)                   │ (<span style=\"color: #00d7ff; text-decoration-color: #00d7ff\">None</span>, <span style=\"color: #00af00; text-decoration-color: #00af00\">6745</span>)           │       <span style=\"color: #00af00; text-decoration-color: #00af00\">816,145</span> │\n",
       "└─────────────────────────────────┴────────────────────────┴───────────────┘\n",
       "</pre>\n"
      ],
      "text/plain": [
       "┏━━━━━━━━━━━━━━━━━━━━━━━━━━━━━━━━━┳━━━━━━━━━━━━━━━━━━━━━━━━┳━━━━━━━━━━━━━━━┓\n",
       "┃\u001b[1m \u001b[0m\u001b[1mLayer (type)                   \u001b[0m\u001b[1m \u001b[0m┃\u001b[1m \u001b[0m\u001b[1mOutput Shape          \u001b[0m\u001b[1m \u001b[0m┃\u001b[1m \u001b[0m\u001b[1m      Param #\u001b[0m\u001b[1m \u001b[0m┃\n",
       "┡━━━━━━━━━━━━━━━━━━━━━━━━━━━━━━━━━╇━━━━━━━━━━━━━━━━━━━━━━━━╇━━━━━━━━━━━━━━━┩\n",
       "│ embedding (\u001b[38;5;33mEmbedding\u001b[0m)           │ (\u001b[38;5;45mNone\u001b[0m, \u001b[38;5;34m5\u001b[0m, \u001b[38;5;34m50\u001b[0m)          │       \u001b[38;5;34m337,250\u001b[0m │\n",
       "├─────────────────────────────────┼────────────────────────┼───────────────┤\n",
       "│ lstm (\u001b[38;5;33mLSTM\u001b[0m)                     │ (\u001b[38;5;45mNone\u001b[0m, \u001b[38;5;34m120\u001b[0m)            │        \u001b[38;5;34m82,080\u001b[0m │\n",
       "├─────────────────────────────────┼────────────────────────┼───────────────┤\n",
       "│ dense (\u001b[38;5;33mDense\u001b[0m)                   │ (\u001b[38;5;45mNone\u001b[0m, \u001b[38;5;34m6745\u001b[0m)           │       \u001b[38;5;34m816,145\u001b[0m │\n",
       "└─────────────────────────────────┴────────────────────────┴───────────────┘\n"
      ]
     },
     "metadata": {},
     "output_type": "display_data"
    },
    {
     "data": {
      "text/html": [
       "<pre style=\"white-space:pre;overflow-x:auto;line-height:normal;font-family:Menlo,'DejaVu Sans Mono',consolas,'Courier New',monospace\"><span style=\"font-weight: bold\"> Total params: </span><span style=\"color: #00af00; text-decoration-color: #00af00\">1,235,475</span> (4.71 MB)\n",
       "</pre>\n"
      ],
      "text/plain": [
       "\u001b[1m Total params: \u001b[0m\u001b[38;5;34m1,235,475\u001b[0m (4.71 MB)\n"
      ]
     },
     "metadata": {},
     "output_type": "display_data"
    },
    {
     "data": {
      "text/html": [
       "<pre style=\"white-space:pre;overflow-x:auto;line-height:normal;font-family:Menlo,'DejaVu Sans Mono',consolas,'Courier New',monospace\"><span style=\"font-weight: bold\"> Trainable params: </span><span style=\"color: #00af00; text-decoration-color: #00af00\">1,235,475</span> (4.71 MB)\n",
       "</pre>\n"
      ],
      "text/plain": [
       "\u001b[1m Trainable params: \u001b[0m\u001b[38;5;34m1,235,475\u001b[0m (4.71 MB)\n"
      ]
     },
     "metadata": {},
     "output_type": "display_data"
    },
    {
     "data": {
      "text/html": [
       "<pre style=\"white-space:pre;overflow-x:auto;line-height:normal;font-family:Menlo,'DejaVu Sans Mono',consolas,'Courier New',monospace\"><span style=\"font-weight: bold\"> Non-trainable params: </span><span style=\"color: #00af00; text-decoration-color: #00af00\">0</span> (0.00 B)\n",
       "</pre>\n"
      ],
      "text/plain": [
       "\u001b[1m Non-trainable params: \u001b[0m\u001b[38;5;34m0\u001b[0m (0.00 B)\n"
      ]
     },
     "metadata": {},
     "output_type": "display_data"
    },
    {
     "name": "stdout",
     "output_type": "stream",
     "text": [
      "None\n"
     ]
    }
   ],
   "source": [
    "# Définir le modèle\n",
    "model = Sequential()\n",
    "model.add(Embedding(vocab_size, 50))\n",
    "model.add(LSTM(120))\n",
    "model.add(Dense(vocab_size, activation='softmax'))\n",
    "model.build(input_shape=(None, X.shape[1])) \n",
    "print(model.summary())"
   ]
  },
  {
   "cell_type": "code",
   "execution_count": 5,
   "id": "c623645f",
   "metadata": {
    "execution": {
     "iopub.execute_input": "2024-09-07T08:20:17.288822Z",
     "iopub.status.busy": "2024-09-07T08:20:17.287860Z",
     "iopub.status.idle": "2024-09-07T09:55:51.583971Z",
     "shell.execute_reply": "2024-09-07T09:55:51.580291Z"
    },
    "papermill": {
     "duration": 5734.306253,
     "end_time": "2024-09-07T09:55:51.587514",
     "exception": false,
     "start_time": "2024-09-07T08:20:17.281261",
     "status": "completed"
    },
    "tags": []
   },
   "outputs": [
    {
     "name": "stdout",
     "output_type": "stream",
     "text": [
      "Epoch 1/80\n",
      "\u001b[1m3809/3809\u001b[0m \u001b[32m━━━━━━━━━━━━━━━━━━━━\u001b[0m\u001b[37m\u001b[0m \u001b[1m68s\u001b[0m 17ms/step - accuracy: 0.0430 - loss: 6.5404\n",
      "Epoch 2/80\n",
      "\u001b[1m3809/3809\u001b[0m \u001b[32m━━━━━━━━━━━━━━━━━━━━\u001b[0m\u001b[37m\u001b[0m \u001b[1m81s\u001b[0m 17ms/step - accuracy: 0.1021 - loss: 5.6010\n",
      "Epoch 3/80\n",
      "\u001b[1m3809/3809\u001b[0m \u001b[32m━━━━━━━━━━━━━━━━━━━━\u001b[0m\u001b[37m\u001b[0m \u001b[1m84s\u001b[0m 18ms/step - accuracy: 0.1285 - loss: 5.2130\n",
      "Epoch 4/80\n",
      "\u001b[1m3809/3809\u001b[0m \u001b[32m━━━━━━━━━━━━━━━━━━━━\u001b[0m\u001b[37m\u001b[0m \u001b[1m83s\u001b[0m 18ms/step - accuracy: 0.1492 - loss: 4.9048\n",
      "Epoch 5/80\n",
      "\u001b[1m3809/3809\u001b[0m \u001b[32m━━━━━━━━━━━━━━━━━━━━\u001b[0m\u001b[37m\u001b[0m \u001b[1m68s\u001b[0m 18ms/step - accuracy: 0.1642 - loss: 4.6359\n",
      "Epoch 6/80\n",
      "\u001b[1m3809/3809\u001b[0m \u001b[32m━━━━━━━━━━━━━━━━━━━━\u001b[0m\u001b[37m\u001b[0m \u001b[1m67s\u001b[0m 17ms/step - accuracy: 0.1802 - loss: 4.4156\n",
      "Epoch 7/80\n",
      "\u001b[1m3809/3809\u001b[0m \u001b[32m━━━━━━━━━━━━━━━━━━━━\u001b[0m\u001b[37m\u001b[0m \u001b[1m66s\u001b[0m 17ms/step - accuracy: 0.1958 - loss: 4.2036\n",
      "Epoch 8/80\n",
      "\u001b[1m3809/3809\u001b[0m \u001b[32m━━━━━━━━━━━━━━━━━━━━\u001b[0m\u001b[37m\u001b[0m \u001b[1m66s\u001b[0m 17ms/step - accuracy: 0.2130 - loss: 4.0144\n",
      "Epoch 9/80\n",
      "\u001b[1m3809/3809\u001b[0m \u001b[32m━━━━━━━━━━━━━━━━━━━━\u001b[0m\u001b[37m\u001b[0m \u001b[1m71s\u001b[0m 19ms/step - accuracy: 0.2351 - loss: 3.8229\n",
      "Epoch 10/80\n",
      "\u001b[1m3809/3809\u001b[0m \u001b[32m━━━━━━━━━━━━━━━━━━━━\u001b[0m\u001b[37m\u001b[0m \u001b[1m69s\u001b[0m 18ms/step - accuracy: 0.2557 - loss: 3.6580\n",
      "Epoch 11/80\n",
      "\u001b[1m3809/3809\u001b[0m \u001b[32m━━━━━━━━━━━━━━━━━━━━\u001b[0m\u001b[37m\u001b[0m \u001b[1m68s\u001b[0m 18ms/step - accuracy: 0.2788 - loss: 3.4874\n",
      "Epoch 12/80\n",
      "\u001b[1m3809/3809\u001b[0m \u001b[32m━━━━━━━━━━━━━━━━━━━━\u001b[0m\u001b[37m\u001b[0m \u001b[1m68s\u001b[0m 18ms/step - accuracy: 0.3025 - loss: 3.3382\n",
      "Epoch 13/80\n",
      "\u001b[1m3809/3809\u001b[0m \u001b[32m━━━━━━━━━━━━━━━━━━━━\u001b[0m\u001b[37m\u001b[0m \u001b[1m81s\u001b[0m 18ms/step - accuracy: 0.3286 - loss: 3.1901\n",
      "Epoch 14/80\n",
      "\u001b[1m3809/3809\u001b[0m \u001b[32m━━━━━━━━━━━━━━━━━━━━\u001b[0m\u001b[37m\u001b[0m \u001b[1m70s\u001b[0m 18ms/step - accuracy: 0.3487 - loss: 3.0575\n",
      "Epoch 15/80\n",
      "\u001b[1m3809/3809\u001b[0m \u001b[32m━━━━━━━━━━━━━━━━━━━━\u001b[0m\u001b[37m\u001b[0m \u001b[1m74s\u001b[0m 19ms/step - accuracy: 0.3723 - loss: 2.9289\n",
      "Epoch 16/80\n",
      "\u001b[1m3809/3809\u001b[0m \u001b[32m━━━━━━━━━━━━━━━━━━━━\u001b[0m\u001b[37m\u001b[0m \u001b[1m69s\u001b[0m 18ms/step - accuracy: 0.3946 - loss: 2.8108\n",
      "Epoch 17/80\n",
      "\u001b[1m3809/3809\u001b[0m \u001b[32m━━━━━━━━━━━━━━━━━━━━\u001b[0m\u001b[37m\u001b[0m \u001b[1m67s\u001b[0m 18ms/step - accuracy: 0.4142 - loss: 2.6965\n",
      "Epoch 18/80\n",
      "\u001b[1m3809/3809\u001b[0m \u001b[32m━━━━━━━━━━━━━━━━━━━━\u001b[0m\u001b[37m\u001b[0m \u001b[1m67s\u001b[0m 18ms/step - accuracy: 0.4331 - loss: 2.6001\n",
      "Epoch 19/80\n",
      "\u001b[1m3809/3809\u001b[0m \u001b[32m━━━━━━━━━━━━━━━━━━━━\u001b[0m\u001b[37m\u001b[0m \u001b[1m67s\u001b[0m 18ms/step - accuracy: 0.4557 - loss: 2.4918\n",
      "Epoch 20/80\n",
      "\u001b[1m3809/3809\u001b[0m \u001b[32m━━━━━━━━━━━━━━━━━━━━\u001b[0m\u001b[37m\u001b[0m \u001b[1m67s\u001b[0m 18ms/step - accuracy: 0.4752 - loss: 2.3998\n",
      "Epoch 21/80\n",
      "\u001b[1m3809/3809\u001b[0m \u001b[32m━━━━━━━━━━━━━━━━━━━━\u001b[0m\u001b[37m\u001b[0m \u001b[1m67s\u001b[0m 18ms/step - accuracy: 0.4902 - loss: 2.3233\n",
      "Epoch 22/80\n",
      "\u001b[1m3809/3809\u001b[0m \u001b[32m━━━━━━━━━━━━━━━━━━━━\u001b[0m\u001b[37m\u001b[0m \u001b[1m67s\u001b[0m 18ms/step - accuracy: 0.5066 - loss: 2.2370\n",
      "Epoch 23/80\n",
      "\u001b[1m3809/3809\u001b[0m \u001b[32m━━━━━━━━━━━━━━━━━━━━\u001b[0m\u001b[37m\u001b[0m \u001b[1m82s\u001b[0m 17ms/step - accuracy: 0.5213 - loss: 2.1558\n",
      "Epoch 24/80\n",
      "\u001b[1m3809/3809\u001b[0m \u001b[32m━━━━━━━━━━━━━━━━━━━━\u001b[0m\u001b[37m\u001b[0m \u001b[1m83s\u001b[0m 18ms/step - accuracy: 0.5359 - loss: 2.0884\n",
      "Epoch 25/80\n",
      "\u001b[1m3809/3809\u001b[0m \u001b[32m━━━━━━━━━━━━━━━━━━━━\u001b[0m\u001b[37m\u001b[0m \u001b[1m68s\u001b[0m 18ms/step - accuracy: 0.5510 - loss: 2.0114\n",
      "Epoch 26/80\n",
      "\u001b[1m3809/3809\u001b[0m \u001b[32m━━━━━━━━━━━━━━━━━━━━\u001b[0m\u001b[37m\u001b[0m \u001b[1m81s\u001b[0m 18ms/step - accuracy: 0.5630 - loss: 1.9585\n",
      "Epoch 27/80\n",
      "\u001b[1m3809/3809\u001b[0m \u001b[32m━━━━━━━━━━━━━━━━━━━━\u001b[0m\u001b[37m\u001b[0m \u001b[1m82s\u001b[0m 18ms/step - accuracy: 0.5775 - loss: 1.8823\n",
      "Epoch 28/80\n",
      "\u001b[1m3809/3809\u001b[0m \u001b[32m━━━━━━━━━━━━━━━━━━━━\u001b[0m\u001b[37m\u001b[0m \u001b[1m68s\u001b[0m 18ms/step - accuracy: 0.5871 - loss: 1.8417\n",
      "Epoch 29/80\n",
      "\u001b[1m3809/3809\u001b[0m \u001b[32m━━━━━━━━━━━━━━━━━━━━\u001b[0m\u001b[37m\u001b[0m \u001b[1m68s\u001b[0m 18ms/step - accuracy: 0.5951 - loss: 1.8005\n",
      "Epoch 30/80\n",
      "\u001b[1m3809/3809\u001b[0m \u001b[32m━━━━━━━━━━━━━━━━━━━━\u001b[0m\u001b[37m\u001b[0m \u001b[1m68s\u001b[0m 18ms/step - accuracy: 0.6037 - loss: 1.7538\n",
      "Epoch 31/80\n",
      "\u001b[1m3809/3809\u001b[0m \u001b[32m━━━━━━━━━━━━━━━━━━━━\u001b[0m\u001b[37m\u001b[0m \u001b[1m68s\u001b[0m 18ms/step - accuracy: 0.6145 - loss: 1.7094\n",
      "Epoch 32/80\n",
      "\u001b[1m3809/3809\u001b[0m \u001b[32m━━━━━━━━━━━━━━━━━━━━\u001b[0m\u001b[37m\u001b[0m \u001b[1m68s\u001b[0m 18ms/step - accuracy: 0.6257 - loss: 1.6542\n",
      "Epoch 33/80\n",
      "\u001b[1m3809/3809\u001b[0m \u001b[32m━━━━━━━━━━━━━━━━━━━━\u001b[0m\u001b[37m\u001b[0m \u001b[1m67s\u001b[0m 18ms/step - accuracy: 0.6318 - loss: 1.6285\n",
      "Epoch 34/80\n",
      "\u001b[1m3809/3809\u001b[0m \u001b[32m━━━━━━━━━━━━━━━━━━━━\u001b[0m\u001b[37m\u001b[0m \u001b[1m82s\u001b[0m 18ms/step - accuracy: 0.6407 - loss: 1.5833\n",
      "Epoch 35/80\n",
      "\u001b[1m3809/3809\u001b[0m \u001b[32m━━━━━━━━━━━━━━━━━━━━\u001b[0m\u001b[37m\u001b[0m \u001b[1m91s\u001b[0m 20ms/step - accuracy: 0.6471 - loss: 1.5531\n",
      "Epoch 36/80\n",
      "\u001b[1m3809/3809\u001b[0m \u001b[32m━━━━━━━━━━━━━━━━━━━━\u001b[0m\u001b[37m\u001b[0m \u001b[1m69s\u001b[0m 18ms/step - accuracy: 0.6576 - loss: 1.5065\n",
      "Epoch 37/80\n",
      "\u001b[1m3809/3809\u001b[0m \u001b[32m━━━━━━━━━━━━━━━━━━━━\u001b[0m\u001b[37m\u001b[0m \u001b[1m80s\u001b[0m 18ms/step - accuracy: 0.6636 - loss: 1.4786\n",
      "Epoch 38/80\n",
      "\u001b[1m3809/3809\u001b[0m \u001b[32m━━━━━━━━━━━━━━━━━━━━\u001b[0m\u001b[37m\u001b[0m \u001b[1m67s\u001b[0m 18ms/step - accuracy: 0.6697 - loss: 1.4456\n",
      "Epoch 39/80\n",
      "\u001b[1m3809/3809\u001b[0m \u001b[32m━━━━━━━━━━━━━━━━━━━━\u001b[0m\u001b[37m\u001b[0m \u001b[1m67s\u001b[0m 18ms/step - accuracy: 0.6728 - loss: 1.4245\n",
      "Epoch 40/80\n",
      "\u001b[1m3809/3809\u001b[0m \u001b[32m━━━━━━━━━━━━━━━━━━━━\u001b[0m\u001b[37m\u001b[0m \u001b[1m81s\u001b[0m 17ms/step - accuracy: 0.6835 - loss: 1.3883\n",
      "Epoch 41/80\n",
      "\u001b[1m3809/3809\u001b[0m \u001b[32m━━━━━━━━━━━━━━━━━━━━\u001b[0m\u001b[37m\u001b[0m \u001b[1m67s\u001b[0m 18ms/step - accuracy: 0.6870 - loss: 1.3644\n",
      "Epoch 42/80\n",
      "\u001b[1m3809/3809\u001b[0m \u001b[32m━━━━━━━━━━━━━━━━━━━━\u001b[0m\u001b[37m\u001b[0m \u001b[1m67s\u001b[0m 18ms/step - accuracy: 0.6933 - loss: 1.3380\n",
      "Epoch 43/80\n",
      "\u001b[1m3809/3809\u001b[0m \u001b[32m━━━━━━━━━━━━━━━━━━━━\u001b[0m\u001b[37m\u001b[0m \u001b[1m67s\u001b[0m 18ms/step - accuracy: 0.6972 - loss: 1.3154\n",
      "Epoch 44/80\n",
      "\u001b[1m3809/3809\u001b[0m \u001b[32m━━━━━━━━━━━━━━━━━━━━\u001b[0m\u001b[37m\u001b[0m \u001b[1m67s\u001b[0m 18ms/step - accuracy: 0.7041 - loss: 1.2880\n",
      "Epoch 45/80\n",
      "\u001b[1m3809/3809\u001b[0m \u001b[32m━━━━━━━━━━━━━━━━━━━━\u001b[0m\u001b[37m\u001b[0m \u001b[1m67s\u001b[0m 18ms/step - accuracy: 0.7086 - loss: 1.2632\n",
      "Epoch 46/80\n",
      "\u001b[1m3809/3809\u001b[0m \u001b[32m━━━━━━━━━━━━━━━━━━━━\u001b[0m\u001b[37m\u001b[0m \u001b[1m68s\u001b[0m 18ms/step - accuracy: 0.7110 - loss: 1.2455\n",
      "Epoch 47/80\n",
      "\u001b[1m3809/3809\u001b[0m \u001b[32m━━━━━━━━━━━━━━━━━━━━\u001b[0m\u001b[37m\u001b[0m \u001b[1m67s\u001b[0m 18ms/step - accuracy: 0.7154 - loss: 1.2315\n",
      "Epoch 48/80\n",
      "\u001b[1m3809/3809\u001b[0m \u001b[32m━━━━━━━━━━━━━━━━━━━━\u001b[0m\u001b[37m\u001b[0m \u001b[1m67s\u001b[0m 18ms/step - accuracy: 0.7185 - loss: 1.2072\n",
      "Epoch 49/80\n",
      "\u001b[1m3809/3809\u001b[0m \u001b[32m━━━━━━━━━━━━━━━━━━━━\u001b[0m\u001b[37m\u001b[0m \u001b[1m68s\u001b[0m 18ms/step - accuracy: 0.7243 - loss: 1.1834\n",
      "Epoch 50/80\n",
      "\u001b[1m3809/3809\u001b[0m \u001b[32m━━━━━━━━━━━━━━━━━━━━\u001b[0m\u001b[37m\u001b[0m \u001b[1m84s\u001b[0m 18ms/step - accuracy: 0.7272 - loss: 1.1708\n",
      "Epoch 51/80\n",
      "\u001b[1m3809/3809\u001b[0m \u001b[32m━━━━━━━━━━━━━━━━━━━━\u001b[0m\u001b[37m\u001b[0m \u001b[1m72s\u001b[0m 19ms/step - accuracy: 0.7301 - loss: 1.1590\n",
      "Epoch 52/80\n",
      "\u001b[1m3809/3809\u001b[0m \u001b[32m━━━━━━━━━━━━━━━━━━━━\u001b[0m\u001b[37m\u001b[0m \u001b[1m79s\u001b[0m 18ms/step - accuracy: 0.7350 - loss: 1.1265\n",
      "Epoch 53/80\n",
      "\u001b[1m3809/3809\u001b[0m \u001b[32m━━━━━━━━━━━━━━━━━━━━\u001b[0m\u001b[37m\u001b[0m \u001b[1m67s\u001b[0m 18ms/step - accuracy: 0.7380 - loss: 1.1246\n",
      "Epoch 54/80\n",
      "\u001b[1m3809/3809\u001b[0m \u001b[32m━━━━━━━━━━━━━━━━━━━━\u001b[0m\u001b[37m\u001b[0m \u001b[1m68s\u001b[0m 18ms/step - accuracy: 0.7410 - loss: 1.1031\n",
      "Epoch 55/80\n",
      "\u001b[1m3809/3809\u001b[0m \u001b[32m━━━━━━━━━━━━━━━━━━━━\u001b[0m\u001b[37m\u001b[0m \u001b[1m67s\u001b[0m 18ms/step - accuracy: 0.7423 - loss: 1.0903\n",
      "Epoch 56/80\n",
      "\u001b[1m3809/3809\u001b[0m \u001b[32m━━━━━━━━━━━━━━━━━━━━\u001b[0m\u001b[37m\u001b[0m \u001b[1m67s\u001b[0m 18ms/step - accuracy: 0.7467 - loss: 1.0773\n",
      "Epoch 57/80\n",
      "\u001b[1m3809/3809\u001b[0m \u001b[32m━━━━━━━━━━━━━━━━━━━━\u001b[0m\u001b[37m\u001b[0m \u001b[1m68s\u001b[0m 18ms/step - accuracy: 0.7508 - loss: 1.0626\n",
      "Epoch 58/80\n",
      "\u001b[1m3809/3809\u001b[0m \u001b[32m━━━━━━━━━━━━━━━━━━━━\u001b[0m\u001b[37m\u001b[0m \u001b[1m68s\u001b[0m 18ms/step - accuracy: 0.7521 - loss: 1.0580\n",
      "Epoch 59/80\n",
      "\u001b[1m3809/3809\u001b[0m \u001b[32m━━━━━━━━━━━━━━━━━━━━\u001b[0m\u001b[37m\u001b[0m \u001b[1m68s\u001b[0m 18ms/step - accuracy: 0.7528 - loss: 1.0424\n",
      "Epoch 60/80\n",
      "\u001b[1m3809/3809\u001b[0m \u001b[32m━━━━━━━━━━━━━━━━━━━━\u001b[0m\u001b[37m\u001b[0m \u001b[1m68s\u001b[0m 18ms/step - accuracy: 0.7585 - loss: 1.0219\n",
      "Epoch 61/80\n",
      "\u001b[1m3809/3809\u001b[0m \u001b[32m━━━━━━━━━━━━━━━━━━━━\u001b[0m\u001b[37m\u001b[0m \u001b[1m78s\u001b[0m 20ms/step - accuracy: 0.7585 - loss: 1.0148\n",
      "Epoch 62/80\n",
      "\u001b[1m3809/3809\u001b[0m \u001b[32m━━━━━━━━━━━━━━━━━━━━\u001b[0m\u001b[37m\u001b[0m \u001b[1m73s\u001b[0m 19ms/step - accuracy: 0.7626 - loss: 1.0037\n",
      "Epoch 63/80\n",
      "\u001b[1m3809/3809\u001b[0m \u001b[32m━━━━━━━━━━━━━━━━━━━━\u001b[0m\u001b[37m\u001b[0m \u001b[1m78s\u001b[0m 18ms/step - accuracy: 0.7659 - loss: 0.9904\n",
      "Epoch 64/80\n",
      "\u001b[1m3809/3809\u001b[0m \u001b[32m━━━━━━━━━━━━━━━━━━━━\u001b[0m\u001b[37m\u001b[0m \u001b[1m68s\u001b[0m 18ms/step - accuracy: 0.7662 - loss: 0.9814\n",
      "Epoch 65/80\n",
      "\u001b[1m3809/3809\u001b[0m \u001b[32m━━━━━━━━━━━━━━━━━━━━\u001b[0m\u001b[37m\u001b[0m \u001b[1m68s\u001b[0m 18ms/step - accuracy: 0.7691 - loss: 0.9700\n",
      "Epoch 66/80\n",
      "\u001b[1m3809/3809\u001b[0m \u001b[32m━━━━━━━━━━━━━━━━━━━━\u001b[0m\u001b[37m\u001b[0m \u001b[1m69s\u001b[0m 18ms/step - accuracy: 0.7681 - loss: 0.9698\n",
      "Epoch 67/80\n",
      "\u001b[1m3809/3809\u001b[0m \u001b[32m━━━━━━━━━━━━━━━━━━━━\u001b[0m\u001b[37m\u001b[0m \u001b[1m82s\u001b[0m 18ms/step - accuracy: 0.7701 - loss: 0.9598\n",
      "Epoch 68/80\n",
      "\u001b[1m3809/3809\u001b[0m \u001b[32m━━━━━━━━━━━━━━━━━━━━\u001b[0m\u001b[37m\u001b[0m \u001b[1m81s\u001b[0m 18ms/step - accuracy: 0.7722 - loss: 0.9471\n",
      "Epoch 69/80\n",
      "\u001b[1m3809/3809\u001b[0m \u001b[32m━━━━━━━━━━━━━━━━━━━━\u001b[0m\u001b[37m\u001b[0m \u001b[1m67s\u001b[0m 18ms/step - accuracy: 0.7768 - loss: 0.9325\n",
      "Epoch 70/80\n",
      "\u001b[1m3809/3809\u001b[0m \u001b[32m━━━━━━━━━━━━━━━━━━━━\u001b[0m\u001b[37m\u001b[0m \u001b[1m67s\u001b[0m 18ms/step - accuracy: 0.7785 - loss: 0.9257\n",
      "Epoch 71/80\n",
      "\u001b[1m3809/3809\u001b[0m \u001b[32m━━━━━━━━━━━━━━━━━━━━\u001b[0m\u001b[37m\u001b[0m \u001b[1m67s\u001b[0m 18ms/step - accuracy: 0.7772 - loss: 0.9243\n",
      "Epoch 72/80\n",
      "\u001b[1m3809/3809\u001b[0m \u001b[32m━━━━━━━━━━━━━━━━━━━━\u001b[0m\u001b[37m\u001b[0m \u001b[1m72s\u001b[0m 19ms/step - accuracy: 0.7804 - loss: 0.9102\n",
      "Epoch 73/80\n",
      "\u001b[1m3809/3809\u001b[0m \u001b[32m━━━━━━━━━━━━━━━━━━━━\u001b[0m\u001b[37m\u001b[0m \u001b[1m78s\u001b[0m 18ms/step - accuracy: 0.7803 - loss: 0.9057\n",
      "Epoch 74/80\n",
      "\u001b[1m3809/3809\u001b[0m \u001b[32m━━━━━━━━━━━━━━━━━━━━\u001b[0m\u001b[37m\u001b[0m \u001b[1m68s\u001b[0m 18ms/step - accuracy: 0.7855 - loss: 0.8945\n",
      "Epoch 75/80\n",
      "\u001b[1m3809/3809\u001b[0m \u001b[32m━━━━━━━━━━━━━━━━━━━━\u001b[0m\u001b[37m\u001b[0m \u001b[1m67s\u001b[0m 18ms/step - accuracy: 0.7869 - loss: 0.8859\n",
      "Epoch 76/80\n",
      "\u001b[1m3809/3809\u001b[0m \u001b[32m━━━━━━━━━━━━━━━━━━━━\u001b[0m\u001b[37m\u001b[0m \u001b[1m72s\u001b[0m 19ms/step - accuracy: 0.7872 - loss: 0.8836\n",
      "Epoch 77/80\n",
      "\u001b[1m3809/3809\u001b[0m \u001b[32m━━━━━━━━━━━━━━━━━━━━\u001b[0m\u001b[37m\u001b[0m \u001b[1m76s\u001b[0m 20ms/step - accuracy: 0.7873 - loss: 0.8740\n",
      "Epoch 78/80\n",
      "\u001b[1m3809/3809\u001b[0m \u001b[32m━━━━━━━━━━━━━━━━━━━━\u001b[0m\u001b[37m\u001b[0m \u001b[1m68s\u001b[0m 18ms/step - accuracy: 0.7882 - loss: 0.8663\n",
      "Epoch 79/80\n",
      "\u001b[1m3809/3809\u001b[0m \u001b[32m━━━━━━━━━━━━━━━━━━━━\u001b[0m\u001b[37m\u001b[0m \u001b[1m66s\u001b[0m 17ms/step - accuracy: 0.7922 - loss: 0.8564\n",
      "Epoch 80/80\n",
      "\u001b[1m3809/3809\u001b[0m \u001b[32m━━━━━━━━━━━━━━━━━━━━\u001b[0m\u001b[37m\u001b[0m \u001b[1m70s\u001b[0m 18ms/step - accuracy: 0.7902 - loss: 0.8613\n"
     ]
    },
    {
     "data": {
      "text/plain": [
       "<keras.src.callbacks.history.History at 0x7e219117e770>"
      ]
     },
     "execution_count": 5,
     "metadata": {},
     "output_type": "execute_result"
    }
   ],
   "source": [
    "model.compile(loss='categorical_crossentropy', optimizer='adam', metrics=['accuracy'])\n",
    "model.fit(X, y, epochs=80, verbose=1)\n",
    "\n"
   ]
  },
  {
   "cell_type": "code",
   "execution_count": 6,
   "id": "2877ab84",
   "metadata": {
    "execution": {
     "iopub.execute_input": "2024-09-07T09:56:11.794385Z",
     "iopub.status.busy": "2024-09-07T09:56:11.793691Z",
     "iopub.status.idle": "2024-09-07T09:56:16.004421Z",
     "shell.execute_reply": "2024-09-07T09:56:16.003142Z"
    },
    "papermill": {
     "duration": 14.26918,
     "end_time": "2024-09-07T09:56:16.007212",
     "exception": false,
     "start_time": "2024-09-07T09:56:01.738032",
     "status": "completed"
    },
    "tags": []
   },
   "outputs": [
    {
     "name": "stdout",
     "output_type": "stream",
     "text": [
      " It is a truth universally acknowledged that a single man in possession of a good fortune must be in town than with many concern but now and would venture at her at any rate where jane had left over entirely asked and many three and ridiculous both open would colonel\n"
     ]
    }
   ],
   "source": [
    "input_text = \" It is a truth universally\"\n",
    "predict_next_words = 45\n",
    "\n",
    "\n",
    "for _ in range(predict_next_words):\n",
    "    input_sequence = tokenizer.texts_to_sequences([input_text])[0]\n",
    "    \n",
    "    input_sequence = input_sequence[-5:]\n",
    "    \n",
    "    input_sequence = np.array(input_sequence).reshape(1, -1)\n",
    "    \n",
    "    predicted_prob = model.predict(input_sequence, verbose=0)\n",
    "    predicted_index = np.argmax(predicted_prob, axis=-1)\n",
    "    \n",
    "    output_word = \"\"\n",
    "    for word, index in tokenizer.word_index.items():\n",
    "        if index == predicted_index:\n",
    "            output_word = word\n",
    "            break\n",
    "    \n",
    "    if output_word == \"\":\n",
    "        print(\"Aucun mot prédit trouvé.\")\n",
    "        break\n",
    "    \n",
    "    input_text += \" \" + output_word\n",
    "\n",
    "print(input_text)"
   ]
  },
  {
   "cell_type": "markdown",
   "id": "7716a87f",
   "metadata": {
    "papermill": {
     "duration": 9.896095,
     "end_time": "2024-09-07T09:56:35.820044",
     "exception": false,
     "start_time": "2024-09-07T09:56:25.923949",
     "status": "completed"
    },
    "tags": []
   },
   "source": []
  }
 ],
 "metadata": {
  "kaggle": {
   "accelerator": "none",
   "dataSources": [
    {
     "datasetId": 1357760,
     "sourceId": 2256379,
     "sourceType": "datasetVersion"
    }
   ],
   "dockerImageVersionId": 30762,
   "isGpuEnabled": false,
   "isInternetEnabled": true,
   "language": "python",
   "sourceType": "notebook"
  },
  "kernelspec": {
   "display_name": "Python 3",
   "language": "python",
   "name": "python3"
  },
  "language_info": {
   "codemirror_mode": {
    "name": "ipython",
    "version": 3
   },
   "file_extension": ".py",
   "mimetype": "text/x-python",
   "name": "python",
   "nbconvert_exporter": "python",
   "pygments_lexer": "ipython3",
   "version": "3.10.14"
  },
  "papermill": {
   "default_parameters": {},
   "duration": 5813.464639,
   "end_time": "2024-09-07T09:56:48.521212",
   "environment_variables": {},
   "exception": null,
   "input_path": "__notebook__.ipynb",
   "output_path": "__notebook__.ipynb",
   "parameters": {},
   "start_time": "2024-09-07T08:19:55.056573",
   "version": "2.6.0"
  }
 },
 "nbformat": 4,
 "nbformat_minor": 5
}
