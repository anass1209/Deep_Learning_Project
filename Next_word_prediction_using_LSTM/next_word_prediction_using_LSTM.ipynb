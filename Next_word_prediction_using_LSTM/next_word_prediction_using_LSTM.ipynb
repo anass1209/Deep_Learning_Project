{
 "cells": [
  {
   "cell_type": "markdown",
   "id": "87baa9d9",
   "metadata": {
    "papermill": {
     "duration": 0.006154,
     "end_time": "2024-09-06T20:32:38.907896",
     "exception": false,
     "start_time": "2024-09-06T20:32:38.901742",
     "status": "completed"
    },
    "tags": []
   },
   "source": [
    "# **Methode 1**"
   ]
  },
  {
   "cell_type": "code",
   "execution_count": 1,
   "id": "cf730517",
   "metadata": {
    "_cell_guid": "b1076dfc-b9ad-4769-8c92-a6c4dae69d19",
    "_uuid": "8f2839f25d086af736a60e9eeb907d3b93b6e0e5",
    "execution": {
     "iopub.execute_input": "2024-09-06T20:32:38.920119Z",
     "iopub.status.busy": "2024-09-06T20:32:38.919677Z",
     "iopub.status.idle": "2024-09-06T20:32:54.572949Z",
     "shell.execute_reply": "2024-09-06T20:32:54.571692Z"
    },
    "papermill": {
     "duration": 15.662504,
     "end_time": "2024-09-06T20:32:54.575705",
     "exception": false,
     "start_time": "2024-09-06T20:32:38.913201",
     "status": "completed"
    },
    "tags": []
   },
   "outputs": [
    {
     "name": "stdout",
     "output_type": "stream",
     "text": [
      "Taille du vocabulaire : 6745\n"
     ]
    }
   ],
   "source": [
    "import pandas as pd\n",
    "import tensorflow as tf\n",
    "from tensorflow.keras.preprocessing.text import Tokenizer\n",
    "from tensorflow.keras.layers import Embedding, LSTM, Dense, Dropout\n",
    "from tensorflow.keras.models import Sequential\n",
    "from tensorflow.keras.utils import to_categorical\n",
    "from tensorflow.keras.optimizers import Adam\n",
    "from tensorflow.keras.callbacks import ModelCheckpoint, EarlyStopping\n",
    "from tensorflow.keras.regularizers import l2\n",
    "\n",
    "import pickle\n",
    "import numpy as np\n",
    "from sklearn.model_selection import train_test_split\n",
    "\n",
    "with open(\"/kaggle/input/pride-prejudice-subtitles-and-text/PP.txt\", \"r\", encoding=\"utf8\") as f:\n",
    "    data = f.read()\n",
    "\n",
    "# Prétraitement du texte\n",
    "text = data.replace('\\n', ' ').replace('\\r', ' ').replace('\\ufeff', ' ').replace('“', '').replace('”', '')\n",
    "text = ' '.join(text.split())\n",
    "\n",
    "tokenizer = Tokenizer()\n",
    "tokenizer.fit_on_texts([text])\n",
    "\n",
    "# Enregistrer le tokenizer\n",
    "with open('token.pkl', 'wb') as handle:\n",
    "    pickle.dump(tokenizer, handle)\n",
    "\n",
    "vocab_size = len(tokenizer.word_index) + 1\n",
    "print(f\"Taille du vocabulaire : {vocab_size}\")\n",
    "\n"
   ]
  },
  {
   "cell_type": "code",
   "execution_count": null,
   "id": "d106aa5d",
   "metadata": {
    "papermill": {
     "duration": 0.007859,
     "end_time": "2024-09-06T20:32:54.589256",
     "exception": false,
     "start_time": "2024-09-06T20:32:54.581397",
     "status": "completed"
    },
    "tags": []
   },
   "outputs": [],
   "source": []
  },
  {
   "cell_type": "code",
   "execution_count": 2,
   "id": "222d5fe2",
   "metadata": {
    "execution": {
     "iopub.execute_input": "2024-09-06T20:32:54.603493Z",
     "iopub.status.busy": "2024-09-06T20:32:54.601725Z",
     "iopub.status.idle": "2024-09-06T20:32:55.212677Z",
     "shell.execute_reply": "2024-09-06T20:32:55.211488Z"
    },
    "papermill": {
     "duration": 0.620712,
     "end_time": "2024-09-06T20:32:55.215381",
     "exception": false,
     "start_time": "2024-09-06T20:32:54.594669",
     "status": "completed"
    },
    "tags": []
   },
   "outputs": [],
   "source": [
    "sequence_data = tokenizer.texts_to_sequences([text])[0]\n",
    "sequences = []\n",
    "for i in range(5, len(sequence_data)):\n",
    "    words = sequence_data[i-5:i+1]\n",
    "    sequences.append(words)\n",
    "\n",
    "sequences = np.array(sequences)\n",
    "\n"
   ]
  },
  {
   "cell_type": "code",
   "execution_count": 3,
   "id": "8fdde080",
   "metadata": {
    "execution": {
     "iopub.execute_input": "2024-09-06T20:32:55.227656Z",
     "iopub.status.busy": "2024-09-06T20:32:55.227290Z",
     "iopub.status.idle": "2024-09-06T20:32:55.589351Z",
     "shell.execute_reply": "2024-09-06T20:32:55.588176Z"
    },
    "papermill": {
     "duration": 0.371146,
     "end_time": "2024-09-06T20:32:55.592039",
     "exception": false,
     "start_time": "2024-09-06T20:32:55.220893",
     "status": "completed"
    },
    "tags": []
   },
   "outputs": [],
   "source": [
    "# Diviser les données en entrée et sortie\n",
    "X = sequences[:, :-1]  \n",
    "y = sequences[:, -1]  \n",
    "y = to_categorical(y, num_classes=vocab_size)\n",
    "\n",
    "\n",
    "\n"
   ]
  },
  {
   "cell_type": "code",
   "execution_count": 4,
   "id": "e41e7ae6",
   "metadata": {
    "execution": {
     "iopub.execute_input": "2024-09-06T20:32:55.604262Z",
     "iopub.status.busy": "2024-09-06T20:32:55.603832Z",
     "iopub.status.idle": "2024-09-06T20:32:55.744966Z",
     "shell.execute_reply": "2024-09-06T20:32:55.743914Z"
    },
    "papermill": {
     "duration": 0.150404,
     "end_time": "2024-09-06T20:32:55.747900",
     "exception": false,
     "start_time": "2024-09-06T20:32:55.597496",
     "status": "completed"
    },
    "tags": []
   },
   "outputs": [
    {
     "data": {
      "text/html": [
       "<pre style=\"white-space:pre;overflow-x:auto;line-height:normal;font-family:Menlo,'DejaVu Sans Mono',consolas,'Courier New',monospace\"><span style=\"font-weight: bold\">Model: \"sequential\"</span>\n",
       "</pre>\n"
      ],
      "text/plain": [
       "\u001b[1mModel: \"sequential\"\u001b[0m\n"
      ]
     },
     "metadata": {},
     "output_type": "display_data"
    },
    {
     "data": {
      "text/html": [
       "<pre style=\"white-space:pre;overflow-x:auto;line-height:normal;font-family:Menlo,'DejaVu Sans Mono',consolas,'Courier New',monospace\">┏━━━━━━━━━━━━━━━━━━━━━━━━━━━━━━━━━┳━━━━━━━━━━━━━━━━━━━━━━━━┳━━━━━━━━━━━━━━━┓\n",
       "┃<span style=\"font-weight: bold\"> Layer (type)                    </span>┃<span style=\"font-weight: bold\"> Output Shape           </span>┃<span style=\"font-weight: bold\">       Param # </span>┃\n",
       "┡━━━━━━━━━━━━━━━━━━━━━━━━━━━━━━━━━╇━━━━━━━━━━━━━━━━━━━━━━━━╇━━━━━━━━━━━━━━━┩\n",
       "│ embedding (<span style=\"color: #0087ff; text-decoration-color: #0087ff\">Embedding</span>)           │ (<span style=\"color: #00d7ff; text-decoration-color: #00d7ff\">None</span>, <span style=\"color: #00af00; text-decoration-color: #00af00\">5</span>, <span style=\"color: #00af00; text-decoration-color: #00af00\">50</span>)          │       <span style=\"color: #00af00; text-decoration-color: #00af00\">337,250</span> │\n",
       "├─────────────────────────────────┼────────────────────────┼───────────────┤\n",
       "│ lstm (<span style=\"color: #0087ff; text-decoration-color: #0087ff\">LSTM</span>)                     │ (<span style=\"color: #00d7ff; text-decoration-color: #00d7ff\">None</span>, <span style=\"color: #00af00; text-decoration-color: #00af00\">120</span>)            │        <span style=\"color: #00af00; text-decoration-color: #00af00\">82,080</span> │\n",
       "├─────────────────────────────────┼────────────────────────┼───────────────┤\n",
       "│ dense (<span style=\"color: #0087ff; text-decoration-color: #0087ff\">Dense</span>)                   │ (<span style=\"color: #00d7ff; text-decoration-color: #00d7ff\">None</span>, <span style=\"color: #00af00; text-decoration-color: #00af00\">6745</span>)           │       <span style=\"color: #00af00; text-decoration-color: #00af00\">816,145</span> │\n",
       "└─────────────────────────────────┴────────────────────────┴───────────────┘\n",
       "</pre>\n"
      ],
      "text/plain": [
       "┏━━━━━━━━━━━━━━━━━━━━━━━━━━━━━━━━━┳━━━━━━━━━━━━━━━━━━━━━━━━┳━━━━━━━━━━━━━━━┓\n",
       "┃\u001b[1m \u001b[0m\u001b[1mLayer (type)                   \u001b[0m\u001b[1m \u001b[0m┃\u001b[1m \u001b[0m\u001b[1mOutput Shape          \u001b[0m\u001b[1m \u001b[0m┃\u001b[1m \u001b[0m\u001b[1m      Param #\u001b[0m\u001b[1m \u001b[0m┃\n",
       "┡━━━━━━━━━━━━━━━━━━━━━━━━━━━━━━━━━╇━━━━━━━━━━━━━━━━━━━━━━━━╇━━━━━━━━━━━━━━━┩\n",
       "│ embedding (\u001b[38;5;33mEmbedding\u001b[0m)           │ (\u001b[38;5;45mNone\u001b[0m, \u001b[38;5;34m5\u001b[0m, \u001b[38;5;34m50\u001b[0m)          │       \u001b[38;5;34m337,250\u001b[0m │\n",
       "├─────────────────────────────────┼────────────────────────┼───────────────┤\n",
       "│ lstm (\u001b[38;5;33mLSTM\u001b[0m)                     │ (\u001b[38;5;45mNone\u001b[0m, \u001b[38;5;34m120\u001b[0m)            │        \u001b[38;5;34m82,080\u001b[0m │\n",
       "├─────────────────────────────────┼────────────────────────┼───────────────┤\n",
       "│ dense (\u001b[38;5;33mDense\u001b[0m)                   │ (\u001b[38;5;45mNone\u001b[0m, \u001b[38;5;34m6745\u001b[0m)           │       \u001b[38;5;34m816,145\u001b[0m │\n",
       "└─────────────────────────────────┴────────────────────────┴───────────────┘\n"
      ]
     },
     "metadata": {},
     "output_type": "display_data"
    },
    {
     "data": {
      "text/html": [
       "<pre style=\"white-space:pre;overflow-x:auto;line-height:normal;font-family:Menlo,'DejaVu Sans Mono',consolas,'Courier New',monospace\"><span style=\"font-weight: bold\"> Total params: </span><span style=\"color: #00af00; text-decoration-color: #00af00\">1,235,475</span> (4.71 MB)\n",
       "</pre>\n"
      ],
      "text/plain": [
       "\u001b[1m Total params: \u001b[0m\u001b[38;5;34m1,235,475\u001b[0m (4.71 MB)\n"
      ]
     },
     "metadata": {},
     "output_type": "display_data"
    },
    {
     "data": {
      "text/html": [
       "<pre style=\"white-space:pre;overflow-x:auto;line-height:normal;font-family:Menlo,'DejaVu Sans Mono',consolas,'Courier New',monospace\"><span style=\"font-weight: bold\"> Trainable params: </span><span style=\"color: #00af00; text-decoration-color: #00af00\">1,235,475</span> (4.71 MB)\n",
       "</pre>\n"
      ],
      "text/plain": [
       "\u001b[1m Trainable params: \u001b[0m\u001b[38;5;34m1,235,475\u001b[0m (4.71 MB)\n"
      ]
     },
     "metadata": {},
     "output_type": "display_data"
    },
    {
     "data": {
      "text/html": [
       "<pre style=\"white-space:pre;overflow-x:auto;line-height:normal;font-family:Menlo,'DejaVu Sans Mono',consolas,'Courier New',monospace\"><span style=\"font-weight: bold\"> Non-trainable params: </span><span style=\"color: #00af00; text-decoration-color: #00af00\">0</span> (0.00 B)\n",
       "</pre>\n"
      ],
      "text/plain": [
       "\u001b[1m Non-trainable params: \u001b[0m\u001b[38;5;34m0\u001b[0m (0.00 B)\n"
      ]
     },
     "metadata": {},
     "output_type": "display_data"
    },
    {
     "name": "stdout",
     "output_type": "stream",
     "text": [
      "None\n"
     ]
    }
   ],
   "source": [
    "# Définir le modèle\n",
    "model = Sequential()\n",
    "model.add(Embedding(vocab_size, 50))\n",
    "model.add(LSTM(120))\n",
    "model.add(Dense(vocab_size, activation='softmax'))\n",
    "model.build(input_shape=(None, X.shape[1])) \n",
    "print(model.summary())"
   ]
  },
  {
   "cell_type": "code",
   "execution_count": 5,
   "id": "5641544c",
   "metadata": {
    "execution": {
     "iopub.execute_input": "2024-09-06T20:32:55.762488Z",
     "iopub.status.busy": "2024-09-06T20:32:55.761869Z",
     "iopub.status.idle": "2024-09-06T22:08:53.268695Z",
     "shell.execute_reply": "2024-09-06T22:08:53.266820Z"
    },
    "papermill": {
     "duration": 5757.517314,
     "end_time": "2024-09-06T22:08:53.271698",
     "exception": false,
     "start_time": "2024-09-06T20:32:55.754384",
     "status": "completed"
    },
    "tags": []
   },
   "outputs": [
    {
     "name": "stdout",
     "output_type": "stream",
     "text": [
      "Epoch 1/80\n",
      "\u001b[1m3809/3809\u001b[0m \u001b[32m━━━━━━━━━━━━━━━━━━━━\u001b[0m\u001b[37m\u001b[0m \u001b[1m60s\u001b[0m 15ms/step - accuracy: 0.0429 - loss: 6.5357\n",
      "Epoch 2/80\n",
      "\u001b[1m3809/3809\u001b[0m \u001b[32m━━━━━━━━━━━━━━━━━━━━\u001b[0m\u001b[37m\u001b[0m \u001b[1m83s\u001b[0m 16ms/step - accuracy: 0.1025 - loss: 5.6091\n",
      "Epoch 3/80\n",
      "\u001b[1m3809/3809\u001b[0m \u001b[32m━━━━━━━━━━━━━━━━━━━━\u001b[0m\u001b[37m\u001b[0m \u001b[1m59s\u001b[0m 15ms/step - accuracy: 0.1325 - loss: 5.1712\n",
      "Epoch 4/80\n",
      "\u001b[1m3809/3809\u001b[0m \u001b[32m━━━━━━━━━━━━━━━━━━━━\u001b[0m\u001b[37m\u001b[0m \u001b[1m59s\u001b[0m 15ms/step - accuracy: 0.1520 - loss: 4.8798\n",
      "Epoch 5/80\n",
      "\u001b[1m3809/3809\u001b[0m \u001b[32m━━━━━━━━━━━━━━━━━━━━\u001b[0m\u001b[37m\u001b[0m \u001b[1m82s\u001b[0m 15ms/step - accuracy: 0.1657 - loss: 4.6363\n",
      "Epoch 6/80\n",
      "\u001b[1m3809/3809\u001b[0m \u001b[32m━━━━━━━━━━━━━━━━━━━━\u001b[0m\u001b[37m\u001b[0m \u001b[1m82s\u001b[0m 15ms/step - accuracy: 0.1766 - loss: 4.4277\n",
      "Epoch 7/80\n",
      "\u001b[1m3809/3809\u001b[0m \u001b[32m━━━━━━━━━━━━━━━━━━━━\u001b[0m\u001b[37m\u001b[0m \u001b[1m82s\u001b[0m 15ms/step - accuracy: 0.1931 - loss: 4.2247\n",
      "Epoch 8/80\n",
      "\u001b[1m3809/3809\u001b[0m \u001b[32m━━━━━━━━━━━━━━━━━━━━\u001b[0m\u001b[37m\u001b[0m \u001b[1m82s\u001b[0m 15ms/step - accuracy: 0.2097 - loss: 4.0311\n",
      "Epoch 9/80\n",
      "\u001b[1m3809/3809\u001b[0m \u001b[32m━━━━━━━━━━━━━━━━━━━━\u001b[0m\u001b[37m\u001b[0m \u001b[1m85s\u001b[0m 16ms/step - accuracy: 0.2277 - loss: 3.8566\n",
      "Epoch 10/80\n",
      "\u001b[1m3809/3809\u001b[0m \u001b[32m━━━━━━━━━━━━━━━━━━━━\u001b[0m\u001b[37m\u001b[0m \u001b[1m61s\u001b[0m 16ms/step - accuracy: 0.2495 - loss: 3.6940\n",
      "Epoch 11/80\n",
      "\u001b[1m3809/3809\u001b[0m \u001b[32m━━━━━━━━━━━━━━━━━━━━\u001b[0m\u001b[37m\u001b[0m \u001b[1m82s\u001b[0m 16ms/step - accuracy: 0.2706 - loss: 3.5390\n",
      "Epoch 12/80\n",
      "\u001b[1m3809/3809\u001b[0m \u001b[32m━━━━━━━━━━━━━━━━━━━━\u001b[0m\u001b[37m\u001b[0m \u001b[1m82s\u001b[0m 16ms/step - accuracy: 0.2939 - loss: 3.3785\n",
      "Epoch 13/80\n",
      "\u001b[1m3809/3809\u001b[0m \u001b[32m━━━━━━━━━━━━━━━━━━━━\u001b[0m\u001b[37m\u001b[0m \u001b[1m61s\u001b[0m 16ms/step - accuracy: 0.3168 - loss: 3.2458\n",
      "Epoch 14/80\n",
      "\u001b[1m3809/3809\u001b[0m \u001b[32m━━━━━━━━━━━━━━━━━━━━\u001b[0m\u001b[37m\u001b[0m \u001b[1m60s\u001b[0m 16ms/step - accuracy: 0.3383 - loss: 3.1128\n",
      "Epoch 15/80\n",
      "\u001b[1m3809/3809\u001b[0m \u001b[32m━━━━━━━━━━━━━━━━━━━━\u001b[0m\u001b[37m\u001b[0m \u001b[1m61s\u001b[0m 16ms/step - accuracy: 0.3592 - loss: 2.9911\n",
      "Epoch 16/80\n",
      "\u001b[1m3809/3809\u001b[0m \u001b[32m━━━━━━━━━━━━━━━━━━━━\u001b[0m\u001b[37m\u001b[0m \u001b[1m61s\u001b[0m 16ms/step - accuracy: 0.3819 - loss: 2.8693\n",
      "Epoch 17/80\n",
      "\u001b[1m3809/3809\u001b[0m \u001b[32m━━━━━━━━━━━━━━━━━━━━\u001b[0m\u001b[37m\u001b[0m \u001b[1m61s\u001b[0m 16ms/step - accuracy: 0.4044 - loss: 2.7547\n",
      "Epoch 18/80\n",
      "\u001b[1m3809/3809\u001b[0m \u001b[32m━━━━━━━━━━━━━━━━━━━━\u001b[0m\u001b[37m\u001b[0m \u001b[1m62s\u001b[0m 16ms/step - accuracy: 0.4263 - loss: 2.6370\n",
      "Epoch 19/80\n",
      "\u001b[1m3809/3809\u001b[0m \u001b[32m━━━━━━━━━━━━━━━━━━━━\u001b[0m\u001b[37m\u001b[0m \u001b[1m82s\u001b[0m 16ms/step - accuracy: 0.4430 - loss: 2.5468\n",
      "Epoch 20/80\n",
      "\u001b[1m3809/3809\u001b[0m \u001b[32m━━━━━━━━━━━━━━━━━━━━\u001b[0m\u001b[37m\u001b[0m \u001b[1m82s\u001b[0m 16ms/step - accuracy: 0.4609 - loss: 2.4623\n",
      "Epoch 21/80\n",
      "\u001b[1m3809/3809\u001b[0m \u001b[32m━━━━━━━━━━━━━━━━━━━━\u001b[0m\u001b[37m\u001b[0m \u001b[1m63s\u001b[0m 17ms/step - accuracy: 0.4744 - loss: 2.3804\n",
      "Epoch 22/80\n",
      "\u001b[1m3809/3809\u001b[0m \u001b[32m━━━━━━━━━━━━━━━━━━━━\u001b[0m\u001b[37m\u001b[0m \u001b[1m82s\u001b[0m 17ms/step - accuracy: 0.4943 - loss: 2.2948\n",
      "Epoch 23/80\n",
      "\u001b[1m3809/3809\u001b[0m \u001b[32m━━━━━━━━━━━━━━━━━━━━\u001b[0m\u001b[37m\u001b[0m \u001b[1m64s\u001b[0m 17ms/step - accuracy: 0.5121 - loss: 2.1957\n",
      "Epoch 24/80\n",
      "\u001b[1m3809/3809\u001b[0m \u001b[32m━━━━━━━━━━━━━━━━━━━━\u001b[0m\u001b[37m\u001b[0m \u001b[1m67s\u001b[0m 17ms/step - accuracy: 0.5245 - loss: 2.1375\n",
      "Epoch 25/80\n",
      "\u001b[1m3809/3809\u001b[0m \u001b[32m━━━━━━━━━━━━━━━━━━━━\u001b[0m\u001b[37m\u001b[0m \u001b[1m82s\u001b[0m 17ms/step - accuracy: 0.5358 - loss: 2.0803\n",
      "Epoch 26/80\n",
      "\u001b[1m3809/3809\u001b[0m \u001b[32m━━━━━━━━━━━━━━━━━━━━\u001b[0m\u001b[37m\u001b[0m \u001b[1m79s\u001b[0m 17ms/step - accuracy: 0.5535 - loss: 2.0122\n",
      "Epoch 27/80\n",
      "\u001b[1m3809/3809\u001b[0m \u001b[32m━━━━━━━━━━━━━━━━━━━━\u001b[0m\u001b[37m\u001b[0m \u001b[1m81s\u001b[0m 17ms/step - accuracy: 0.5638 - loss: 1.9541\n",
      "Epoch 28/80\n",
      "\u001b[1m3809/3809\u001b[0m \u001b[32m━━━━━━━━━━━━━━━━━━━━\u001b[0m\u001b[37m\u001b[0m \u001b[1m82s\u001b[0m 17ms/step - accuracy: 0.5759 - loss: 1.8947\n",
      "Epoch 29/80\n",
      "\u001b[1m3809/3809\u001b[0m \u001b[32m━━━━━━━━━━━━━━━━━━━━\u001b[0m\u001b[37m\u001b[0m \u001b[1m63s\u001b[0m 16ms/step - accuracy: 0.5839 - loss: 1.8471\n",
      "Epoch 30/80\n",
      "\u001b[1m3809/3809\u001b[0m \u001b[32m━━━━━━━━━━━━━━━━━━━━\u001b[0m\u001b[37m\u001b[0m \u001b[1m81s\u001b[0m 16ms/step - accuracy: 0.5981 - loss: 1.7821\n",
      "Epoch 31/80\n",
      "\u001b[1m3809/3809\u001b[0m \u001b[32m━━━━━━━━━━━━━━━━━━━━\u001b[0m\u001b[37m\u001b[0m \u001b[1m62s\u001b[0m 16ms/step - accuracy: 0.6056 - loss: 1.7502\n",
      "Epoch 32/80\n",
      "\u001b[1m3809/3809\u001b[0m \u001b[32m━━━━━━━━━━━━━━━━━━━━\u001b[0m\u001b[37m\u001b[0m \u001b[1m62s\u001b[0m 16ms/step - accuracy: 0.6132 - loss: 1.7061\n",
      "Epoch 33/80\n",
      "\u001b[1m3809/3809\u001b[0m \u001b[32m━━━━━━━━━━━━━━━━━━━━\u001b[0m\u001b[37m\u001b[0m \u001b[1m62s\u001b[0m 16ms/step - accuracy: 0.6255 - loss: 1.6536\n",
      "Epoch 34/80\n",
      "\u001b[1m3809/3809\u001b[0m \u001b[32m━━━━━━━━━━━━━━━━━━━━\u001b[0m\u001b[37m\u001b[0m \u001b[1m63s\u001b[0m 17ms/step - accuracy: 0.6318 - loss: 1.6232\n",
      "Epoch 35/80\n",
      "\u001b[1m3809/3809\u001b[0m \u001b[32m━━━━━━━━━━━━━━━━━━━━\u001b[0m\u001b[37m\u001b[0m \u001b[1m63s\u001b[0m 17ms/step - accuracy: 0.6400 - loss: 1.5908\n",
      "Epoch 36/80\n",
      "\u001b[1m3809/3809\u001b[0m \u001b[32m━━━━━━━━━━━━━━━━━━━━\u001b[0m\u001b[37m\u001b[0m \u001b[1m81s\u001b[0m 16ms/step - accuracy: 0.6492 - loss: 1.5422\n",
      "Epoch 37/80\n",
      "\u001b[1m3809/3809\u001b[0m \u001b[32m━━━━━━━━━━━━━━━━━━━━\u001b[0m\u001b[37m\u001b[0m \u001b[1m64s\u001b[0m 17ms/step - accuracy: 0.6549 - loss: 1.5169\n",
      "Epoch 38/80\n",
      "\u001b[1m3809/3809\u001b[0m \u001b[32m━━━━━━━━━━━━━━━━━━━━\u001b[0m\u001b[37m\u001b[0m \u001b[1m83s\u001b[0m 17ms/step - accuracy: 0.6572 - loss: 1.4919\n",
      "Epoch 39/80\n",
      "\u001b[1m3809/3809\u001b[0m \u001b[32m━━━━━━━━━━━━━━━━━━━━\u001b[0m\u001b[37m\u001b[0m \u001b[1m67s\u001b[0m 18ms/step - accuracy: 0.6653 - loss: 1.4616\n",
      "Epoch 40/80\n",
      "\u001b[1m3809/3809\u001b[0m \u001b[32m━━━━━━━━━━━━━━━━━━━━\u001b[0m\u001b[37m\u001b[0m \u001b[1m82s\u001b[0m 18ms/step - accuracy: 0.6704 - loss: 1.4361\n",
      "Epoch 41/80\n",
      "\u001b[1m3809/3809\u001b[0m \u001b[32m━━━━━━━━━━━━━━━━━━━━\u001b[0m\u001b[37m\u001b[0m \u001b[1m84s\u001b[0m 18ms/step - accuracy: 0.6793 - loss: 1.4028\n",
      "Epoch 42/80\n",
      "\u001b[1m3809/3809\u001b[0m \u001b[32m━━━━━━━━━━━━━━━━━━━━\u001b[0m\u001b[37m\u001b[0m \u001b[1m71s\u001b[0m 19ms/step - accuracy: 0.6808 - loss: 1.3874\n",
      "Epoch 43/80\n",
      "\u001b[1m3809/3809\u001b[0m \u001b[32m━━━━━━━━━━━━━━━━━━━━\u001b[0m\u001b[37m\u001b[0m \u001b[1m69s\u001b[0m 18ms/step - accuracy: 0.6891 - loss: 1.3536\n",
      "Epoch 44/80\n",
      "\u001b[1m3809/3809\u001b[0m \u001b[32m━━━━━━━━━━━━━━━━━━━━\u001b[0m\u001b[37m\u001b[0m \u001b[1m80s\u001b[0m 18ms/step - accuracy: 0.6918 - loss: 1.3333\n",
      "Epoch 45/80\n",
      "\u001b[1m3809/3809\u001b[0m \u001b[32m━━━━━━━━━━━━━━━━━━━━\u001b[0m\u001b[37m\u001b[0m \u001b[1m70s\u001b[0m 18ms/step - accuracy: 0.6995 - loss: 1.2994\n",
      "Epoch 46/80\n",
      "\u001b[1m3809/3809\u001b[0m \u001b[32m━━━━━━━━━━━━━━━━━━━━\u001b[0m\u001b[37m\u001b[0m \u001b[1m69s\u001b[0m 18ms/step - accuracy: 0.7033 - loss: 1.2827\n",
      "Epoch 47/80\n",
      "\u001b[1m3809/3809\u001b[0m \u001b[32m━━━━━━━━━━━━━━━━━━━━\u001b[0m\u001b[37m\u001b[0m \u001b[1m82s\u001b[0m 18ms/step - accuracy: 0.7042 - loss: 1.2736\n",
      "Epoch 48/80\n",
      "\u001b[1m3809/3809\u001b[0m \u001b[32m━━━━━━━━━━━━━━━━━━━━\u001b[0m\u001b[37m\u001b[0m \u001b[1m81s\u001b[0m 18ms/step - accuracy: 0.7090 - loss: 1.2548\n",
      "Epoch 49/80\n",
      "\u001b[1m3809/3809\u001b[0m \u001b[32m━━━━━━━━━━━━━━━━━━━━\u001b[0m\u001b[37m\u001b[0m \u001b[1m67s\u001b[0m 18ms/step - accuracy: 0.7176 - loss: 1.2222\n",
      "Epoch 50/80\n",
      "\u001b[1m3809/3809\u001b[0m \u001b[32m━━━━━━━━━━━━━━━━━━━━\u001b[0m\u001b[37m\u001b[0m \u001b[1m81s\u001b[0m 17ms/step - accuracy: 0.7204 - loss: 1.2045\n",
      "Epoch 51/80\n",
      "\u001b[1m3809/3809\u001b[0m \u001b[32m━━━━━━━━━━━━━━━━━━━━\u001b[0m\u001b[37m\u001b[0m \u001b[1m63s\u001b[0m 17ms/step - accuracy: 0.7247 - loss: 1.1891\n",
      "Epoch 52/80\n",
      "\u001b[1m3809/3809\u001b[0m \u001b[32m━━━━━━━━━━━━━━━━━━━━\u001b[0m\u001b[37m\u001b[0m \u001b[1m81s\u001b[0m 16ms/step - accuracy: 0.7255 - loss: 1.1751\n",
      "Epoch 53/80\n",
      "\u001b[1m3809/3809\u001b[0m \u001b[32m━━━━━━━━━━━━━━━━━━━━\u001b[0m\u001b[37m\u001b[0m \u001b[1m62s\u001b[0m 16ms/step - accuracy: 0.7294 - loss: 1.1524\n",
      "Epoch 54/80\n",
      "\u001b[1m3809/3809\u001b[0m \u001b[32m━━━━━━━━━━━━━━━━━━━━\u001b[0m\u001b[37m\u001b[0m \u001b[1m62s\u001b[0m 16ms/step - accuracy: 0.7322 - loss: 1.1362\n",
      "Epoch 55/80\n",
      "\u001b[1m3809/3809\u001b[0m \u001b[32m━━━━━━━━━━━━━━━━━━━━\u001b[0m\u001b[37m\u001b[0m \u001b[1m83s\u001b[0m 17ms/step - accuracy: 0.7342 - loss: 1.1404\n",
      "Epoch 56/80\n",
      "\u001b[1m3809/3809\u001b[0m \u001b[32m━━━━━━━━━━━━━━━━━━━━\u001b[0m\u001b[37m\u001b[0m \u001b[1m62s\u001b[0m 16ms/step - accuracy: 0.7393 - loss: 1.1133\n",
      "Epoch 57/80\n",
      "\u001b[1m3809/3809\u001b[0m \u001b[32m━━━━━━━━━━━━━━━━━━━━\u001b[0m\u001b[37m\u001b[0m \u001b[1m81s\u001b[0m 16ms/step - accuracy: 0.7412 - loss: 1.0964\n",
      "Epoch 58/80\n",
      "\u001b[1m3809/3809\u001b[0m \u001b[32m━━━━━━━━━━━━━━━━━━━━\u001b[0m\u001b[37m\u001b[0m \u001b[1m82s\u001b[0m 16ms/step - accuracy: 0.7471 - loss: 1.0822\n",
      "Epoch 59/80\n",
      "\u001b[1m3809/3809\u001b[0m \u001b[32m━━━━━━━━━━━━━━━━━━━━\u001b[0m\u001b[37m\u001b[0m \u001b[1m62s\u001b[0m 16ms/step - accuracy: 0.7455 - loss: 1.0720\n",
      "Epoch 60/80\n",
      "\u001b[1m3809/3809\u001b[0m \u001b[32m━━━━━━━━━━━━━━━━━━━━\u001b[0m\u001b[37m\u001b[0m \u001b[1m83s\u001b[0m 17ms/step - accuracy: 0.7518 - loss: 1.0549\n",
      "Epoch 61/80\n",
      "\u001b[1m3809/3809\u001b[0m \u001b[32m━━━━━━━━━━━━━━━━━━━━\u001b[0m\u001b[37m\u001b[0m \u001b[1m62s\u001b[0m 16ms/step - accuracy: 0.7494 - loss: 1.0531\n",
      "Epoch 62/80\n",
      "\u001b[1m3809/3809\u001b[0m \u001b[32m━━━━━━━━━━━━━━━━━━━━\u001b[0m\u001b[37m\u001b[0m \u001b[1m62s\u001b[0m 16ms/step - accuracy: 0.7548 - loss: 1.0345\n",
      "Epoch 63/80\n",
      "\u001b[1m3809/3809\u001b[0m \u001b[32m━━━━━━━━━━━━━━━━━━━━\u001b[0m\u001b[37m\u001b[0m \u001b[1m62s\u001b[0m 16ms/step - accuracy: 0.7556 - loss: 1.0259\n",
      "Epoch 64/80\n",
      "\u001b[1m3809/3809\u001b[0m \u001b[32m━━━━━━━━━━━━━━━━━━━━\u001b[0m\u001b[37m\u001b[0m \u001b[1m63s\u001b[0m 16ms/step - accuracy: 0.7579 - loss: 1.0182\n",
      "Epoch 65/80\n",
      "\u001b[1m3809/3809\u001b[0m \u001b[32m━━━━━━━━━━━━━━━━━━━━\u001b[0m\u001b[37m\u001b[0m \u001b[1m83s\u001b[0m 17ms/step - accuracy: 0.7583 - loss: 1.0123\n",
      "Epoch 66/80\n",
      "\u001b[1m3809/3809\u001b[0m \u001b[32m━━━━━━━━━━━━━━━━━━━━\u001b[0m\u001b[37m\u001b[0m \u001b[1m82s\u001b[0m 17ms/step - accuracy: 0.7626 - loss: 0.9952\n",
      "Epoch 67/80\n",
      "\u001b[1m3809/3809\u001b[0m \u001b[32m━━━━━━━━━━━━━━━━━━━━\u001b[0m\u001b[37m\u001b[0m \u001b[1m63s\u001b[0m 16ms/step - accuracy: 0.7635 - loss: 0.9886\n",
      "Epoch 68/80\n",
      "\u001b[1m3809/3809\u001b[0m \u001b[32m━━━━━━━━━━━━━━━━━━━━\u001b[0m\u001b[37m\u001b[0m \u001b[1m62s\u001b[0m 16ms/step - accuracy: 0.7666 - loss: 0.9761\n",
      "Epoch 69/80\n",
      "\u001b[1m3809/3809\u001b[0m \u001b[32m━━━━━━━━━━━━━━━━━━━━\u001b[0m\u001b[37m\u001b[0m \u001b[1m82s\u001b[0m 16ms/step - accuracy: 0.7677 - loss: 0.9685\n",
      "Epoch 70/80\n",
      "\u001b[1m3809/3809\u001b[0m \u001b[32m━━━━━━━━━━━━━━━━━━━━\u001b[0m\u001b[37m\u001b[0m \u001b[1m64s\u001b[0m 17ms/step - accuracy: 0.7702 - loss: 0.9604\n",
      "Epoch 71/80\n",
      "\u001b[1m3809/3809\u001b[0m \u001b[32m━━━━━━━━━━━━━━━━━━━━\u001b[0m\u001b[37m\u001b[0m \u001b[1m67s\u001b[0m 17ms/step - accuracy: 0.7715 - loss: 0.9524\n",
      "Epoch 72/80\n",
      "\u001b[1m3809/3809\u001b[0m \u001b[32m━━━━━━━━━━━━━━━━━━━━\u001b[0m\u001b[37m\u001b[0m \u001b[1m79s\u001b[0m 17ms/step - accuracy: 0.7738 - loss: 0.9416\n",
      "Epoch 73/80\n",
      "\u001b[1m3809/3809\u001b[0m \u001b[32m━━━━━━━━━━━━━━━━━━━━\u001b[0m\u001b[37m\u001b[0m \u001b[1m63s\u001b[0m 16ms/step - accuracy: 0.7722 - loss: 0.9402\n",
      "Epoch 74/80\n",
      "\u001b[1m3809/3809\u001b[0m \u001b[32m━━━━━━━━━━━━━━━━━━━━\u001b[0m\u001b[37m\u001b[0m \u001b[1m83s\u001b[0m 17ms/step - accuracy: 0.7753 - loss: 0.9316\n",
      "Epoch 75/80\n",
      "\u001b[1m3809/3809\u001b[0m \u001b[32m━━━━━━━━━━━━━━━━━━━━\u001b[0m\u001b[37m\u001b[0m \u001b[1m64s\u001b[0m 17ms/step - accuracy: 0.7762 - loss: 0.9228\n",
      "Epoch 76/80\n",
      "\u001b[1m3809/3809\u001b[0m \u001b[32m━━━━━━━━━━━━━━━━━━━━\u001b[0m\u001b[37m\u001b[0m \u001b[1m82s\u001b[0m 17ms/step - accuracy: 0.7796 - loss: 0.9092\n",
      "Epoch 77/80\n",
      "\u001b[1m3809/3809\u001b[0m \u001b[32m━━━━━━━━━━━━━━━━━━━━\u001b[0m\u001b[37m\u001b[0m \u001b[1m65s\u001b[0m 17ms/step - accuracy: 0.7818 - loss: 0.8999\n",
      "Epoch 78/80\n",
      "\u001b[1m3809/3809\u001b[0m \u001b[32m━━━━━━━━━━━━━━━━━━━━\u001b[0m\u001b[37m\u001b[0m \u001b[1m81s\u001b[0m 17ms/step - accuracy: 0.7816 - loss: 0.9003\n",
      "Epoch 79/80\n",
      "\u001b[1m3809/3809\u001b[0m \u001b[32m━━━━━━━━━━━━━━━━━━━━\u001b[0m\u001b[37m\u001b[0m \u001b[1m63s\u001b[0m 16ms/step - accuracy: 0.7848 - loss: 0.8840\n",
      "Epoch 80/80\n",
      "\u001b[1m3809/3809\u001b[0m \u001b[32m━━━━━━━━━━━━━━━━━━━━\u001b[0m\u001b[37m\u001b[0m \u001b[1m63s\u001b[0m 16ms/step - accuracy: 0.7859 - loss: 0.8811\n"
     ]
    },
    {
     "data": {
      "text/plain": [
       "<keras.src.callbacks.history.History at 0x7d2f05562710>"
      ]
     },
     "execution_count": 5,
     "metadata": {},
     "output_type": "execute_result"
    }
   ],
   "source": [
    "model.compile(loss='categorical_crossentropy', optimizer='adam', metrics=['accuracy'])\n",
    "model.fit(X, y, epochs=80, verbose=1)\n",
    "\n"
   ]
  },
  {
   "cell_type": "code",
   "execution_count": 6,
   "id": "b94d65c0",
   "metadata": {
    "execution": {
     "iopub.execute_input": "2024-09-06T22:09:10.383655Z",
     "iopub.status.busy": "2024-09-06T22:09:10.383159Z",
     "iopub.status.idle": "2024-09-06T22:09:14.484934Z",
     "shell.execute_reply": "2024-09-06T22:09:14.483629Z"
    },
    "papermill": {
     "duration": 12.626043,
     "end_time": "2024-09-06T22:09:14.487380",
     "exception": false,
     "start_time": "2024-09-06T22:09:01.861337",
     "status": "completed"
    },
    "tags": []
   },
   "outputs": [
    {
     "name": "stdout",
     "output_type": "stream",
     "text": [
      "i want to have been particular to other in the course of the evening it ought to be a sensible young man shan’t for all very i told no more of the certainty for seeing you am well cried miss bennet i shall remember a sense of delight\n"
     ]
    }
   ],
   "source": [
    "input_text = \"i want to\"\n",
    "predict_next_words = 45\n",
    "\n",
    "\n",
    "for _ in range(predict_next_words):\n",
    "    input_sequence = tokenizer.texts_to_sequences([input_text])[0]\n",
    "    \n",
    "    input_sequence = input_sequence[-5:]\n",
    "    \n",
    "    input_sequence = np.array(input_sequence).reshape(1, -1)\n",
    "    \n",
    "    predicted_prob = model.predict(input_sequence, verbose=0)\n",
    "    predicted_index = np.argmax(predicted_prob, axis=-1)\n",
    "    \n",
    "    output_word = \"\"\n",
    "    for word, index in tokenizer.word_index.items():\n",
    "        if index == predicted_index:\n",
    "            output_word = word\n",
    "            break\n",
    "    \n",
    "    if output_word == \"\":\n",
    "        print(\"Aucun mot prédit trouvé.\")\n",
    "        break\n",
    "    \n",
    "    input_text += \" \" + output_word\n",
    "\n",
    "print(input_text)"
   ]
  },
  {
   "cell_type": "markdown",
   "id": "4615e5b0",
   "metadata": {
    "papermill": {
     "duration": 8.482594,
     "end_time": "2024-09-06T22:09:31.563165",
     "exception": false,
     "start_time": "2024-09-06T22:09:23.080571",
     "status": "completed"
    },
    "tags": []
   },
   "source": [
    "# **Methode 2**"
   ]
  },
  {
   "cell_type": "code",
   "execution_count": 7,
   "id": "ff766498",
   "metadata": {
    "execution": {
     "iopub.execute_input": "2024-09-06T22:09:48.659323Z",
     "iopub.status.busy": "2024-09-06T22:09:48.658791Z",
     "iopub.status.idle": "2024-09-06T22:09:48.664083Z",
     "shell.execute_reply": "2024-09-06T22:09:48.662979Z"
    },
    "papermill": {
     "duration": 8.572861,
     "end_time": "2024-09-06T22:09:48.666534",
     "exception": false,
     "start_time": "2024-09-06T22:09:40.093673",
     "status": "completed"
    },
    "tags": []
   },
   "outputs": [],
   "source": [
    "# import numpy as np\n",
    "# import tensorflow as tf\n",
    "# from tensorflow.keras.preprocessing.text import Tokenizer\n",
    "# from tensorflow.keras.preprocessing.sequence import pad_sequences\n",
    "# from tensorflow.keras.models import Sequential\n",
    "# from tensorflow.keras.layers import Embedding, LSTM, Dense"
   ]
  },
  {
   "cell_type": "code",
   "execution_count": 8,
   "id": "ca0c4832",
   "metadata": {
    "execution": {
     "iopub.execute_input": "2024-09-06T22:10:05.750764Z",
     "iopub.status.busy": "2024-09-06T22:10:05.750298Z",
     "iopub.status.idle": "2024-09-06T22:10:05.755598Z",
     "shell.execute_reply": "2024-09-06T22:10:05.754501Z"
    },
    "papermill": {
     "duration": 8.631551,
     "end_time": "2024-09-06T22:10:05.758300",
     "exception": false,
     "start_time": "2024-09-06T22:09:57.126749",
     "status": "completed"
    },
    "tags": []
   },
   "outputs": [],
   "source": [
    "# my_input_sequences = []\n",
    "# for line in text.split('\\n'):\n",
    "#     token_list = tokenizer.texts_to_sequences([line])[0]\n",
    "#     for i in range(1, len(token_list)):\n",
    "#         my_n_gram_sequence = token_list[:i+1]\n",
    "#         my_input_sequences.append(my_n_gram_sequence)\n"
   ]
  },
  {
   "cell_type": "code",
   "execution_count": 9,
   "id": "60130bb9",
   "metadata": {
    "execution": {
     "iopub.execute_input": "2024-09-06T22:10:22.642578Z",
     "iopub.status.busy": "2024-09-06T22:10:22.641568Z",
     "iopub.status.idle": "2024-09-06T22:10:22.646456Z",
     "shell.execute_reply": "2024-09-06T22:10:22.645351Z"
    },
    "papermill": {
     "duration": 8.361918,
     "end_time": "2024-09-06T22:10:22.648799",
     "exception": false,
     "start_time": "2024-09-06T22:10:14.286881",
     "status": "completed"
    },
    "tags": []
   },
   "outputs": [],
   "source": [
    "# max_sequence_len = max([len(seq) for seq in my_input_sequences])\n",
    "# input_sequences = np.array(pad_sequences(my_input_sequences, maxlen=max_sequence_len, padding='pre'))"
   ]
  },
  {
   "cell_type": "code",
   "execution_count": 10,
   "id": "6d1c8c92",
   "metadata": {
    "execution": {
     "iopub.execute_input": "2024-09-06T22:10:39.697495Z",
     "iopub.status.busy": "2024-09-06T22:10:39.696702Z",
     "iopub.status.idle": "2024-09-06T22:10:39.701687Z",
     "shell.execute_reply": "2024-09-06T22:10:39.700581Z"
    },
    "papermill": {
     "duration": 8.478217,
     "end_time": "2024-09-06T22:10:39.704028",
     "exception": false,
     "start_time": "2024-09-06T22:10:31.225811",
     "status": "completed"
    },
    "tags": []
   },
   "outputs": [],
   "source": [
    "# X = input_sequences[:, :-1]\n",
    "# y = input_sequences[:, -1]\n",
    "\n",
    "# y = np.array(tf.keras.utils.to_categorical(y, num_classes=total_words))"
   ]
  },
  {
   "cell_type": "code",
   "execution_count": 11,
   "id": "e87ee4d7",
   "metadata": {
    "execution": {
     "iopub.execute_input": "2024-09-06T22:10:56.835522Z",
     "iopub.status.busy": "2024-09-06T22:10:56.835102Z",
     "iopub.status.idle": "2024-09-06T22:10:56.840309Z",
     "shell.execute_reply": "2024-09-06T22:10:56.839015Z"
    },
    "papermill": {
     "duration": 8.463621,
     "end_time": "2024-09-06T22:10:56.842726",
     "exception": false,
     "start_time": "2024-09-06T22:10:48.379105",
     "status": "completed"
    },
    "tags": []
   },
   "outputs": [],
   "source": [
    "# model = Sequential()\n",
    "# model.add(Embedding(total_words, 60, input_length=max_sequence_len-1))\n",
    "# model.add(LSTM(150))\n",
    "# model.add(Dense(total_words, activation='softmax'))\n",
    "# print(model.summary())"
   ]
  },
  {
   "cell_type": "code",
   "execution_count": 12,
   "id": "e9503a76",
   "metadata": {
    "execution": {
     "iopub.execute_input": "2024-09-06T22:11:13.768155Z",
     "iopub.status.busy": "2024-09-06T22:11:13.767686Z",
     "iopub.status.idle": "2024-09-06T22:11:13.772730Z",
     "shell.execute_reply": "2024-09-06T22:11:13.771614Z"
    },
    "papermill": {
     "duration": 8.612613,
     "end_time": "2024-09-06T22:11:13.775114",
     "exception": false,
     "start_time": "2024-09-06T22:11:05.162501",
     "status": "completed"
    },
    "tags": []
   },
   "outputs": [],
   "source": [
    "# model.compile(loss='categorical_crossentropy', optimizer='adam', metrics=['accuracy'])\n",
    "# model.fit(X, y, epochs=50, verbose=1)"
   ]
  },
  {
   "cell_type": "code",
   "execution_count": 13,
   "id": "6cdcf0af",
   "metadata": {
    "execution": {
     "iopub.execute_input": "2024-09-06T22:11:30.666026Z",
     "iopub.status.busy": "2024-09-06T22:11:30.664956Z",
     "iopub.status.idle": "2024-09-06T22:11:30.670403Z",
     "shell.execute_reply": "2024-09-06T22:11:30.669314Z"
    },
    "papermill": {
     "duration": 8.456535,
     "end_time": "2024-09-06T22:11:30.672651",
     "exception": false,
     "start_time": "2024-09-06T22:11:22.216116",
     "status": "completed"
    },
    "tags": []
   },
   "outputs": [],
   "source": [
    "# input_text = \"Joe biden\"\n",
    "# predict_next_words= 6\n",
    "\n",
    "# for _ in range(predict_next_words):\n",
    "#     token_list = tokenizer.texts_to_sequences([input_text])[0]\n",
    "#     token_list = pad_sequences([token_list], maxlen=max_sequence_len-1, padding='pre')\n",
    "#     predicted = np.argmax(model.predict(token_list), axis=-1)\n",
    "#     output_word = \"\"\n",
    "#     for word, index in tokenizer.word_index.items():\n",
    "#         if index == predicted:\n",
    "#             output_word = word\n",
    "#             break\n",
    "#     input_text += \" \" + output_word\n",
    "\n",
    "# print(input_text)"
   ]
  },
  {
   "cell_type": "code",
   "execution_count": null,
   "id": "d17ce296",
   "metadata": {
    "papermill": {
     "duration": 8.52698,
     "end_time": "2024-09-06T22:11:47.755821",
     "exception": false,
     "start_time": "2024-09-06T22:11:39.228841",
     "status": "completed"
    },
    "tags": []
   },
   "outputs": [],
   "source": []
  }
 ],
 "metadata": {
  "kaggle": {
   "accelerator": "none",
   "dataSources": [
    {
     "datasetId": 1357760,
     "sourceId": 2256379,
     "sourceType": "datasetVersion"
    }
   ],
   "dockerImageVersionId": 30761,
   "isGpuEnabled": false,
   "isInternetEnabled": true,
   "language": "python",
   "sourceType": "notebook"
  },
  "kernelspec": {
   "display_name": "Python 3",
   "language": "python",
   "name": "python3"
  },
  "language_info": {
   "codemirror_mode": {
    "name": "ipython",
    "version": 3
   },
   "file_extension": ".py",
   "mimetype": "text/x-python",
   "name": "python",
   "nbconvert_exporter": "python",
   "pygments_lexer": "ipython3",
   "version": "3.10.14"
  },
  "papermill": {
   "default_parameters": {},
   "duration": 5962.941478,
   "end_time": "2024-09-06T22:11:59.025305",
   "environment_variables": {},
   "exception": null,
   "input_path": "__notebook__.ipynb",
   "output_path": "__notebook__.ipynb",
   "parameters": {},
   "start_time": "2024-09-06T20:32:36.083827",
   "version": "2.6.0"
  }
 },
 "nbformat": 4,
 "nbformat_minor": 5
}
