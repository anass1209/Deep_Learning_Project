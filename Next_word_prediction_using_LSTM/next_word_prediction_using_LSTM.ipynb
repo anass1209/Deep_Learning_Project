{
 "cells": [
  {
   "cell_type": "markdown",
   "id": "2e70d5a0",
   "metadata": {
    "papermill": {
     "duration": 0.004228,
     "end_time": "2024-09-06T23:47:49.621013",
     "exception": false,
     "start_time": "2024-09-06T23:47:49.616785",
     "status": "completed"
    },
    "tags": []
   },
   "source": [
    "# **Methode 2**"
   ]
  },
  {
   "cell_type": "code",
   "execution_count": 1,
   "id": "b0753ab2",
   "metadata": {
    "_cell_guid": "b1076dfc-b9ad-4769-8c92-a6c4dae69d19",
    "_uuid": "8f2839f25d086af736a60e9eeb907d3b93b6e0e5",
    "execution": {
     "iopub.execute_input": "2024-09-06T23:47:49.630740Z",
     "iopub.status.busy": "2024-09-06T23:47:49.629824Z",
     "iopub.status.idle": "2024-09-06T23:48:02.857215Z",
     "shell.execute_reply": "2024-09-06T23:48:02.856407Z"
    },
    "papermill": {
     "duration": 13.234507,
     "end_time": "2024-09-06T23:48:02.859572",
     "exception": false,
     "start_time": "2024-09-06T23:47:49.625065",
     "status": "completed"
    },
    "tags": []
   },
   "outputs": [],
   "source": [
    "import numpy as np\n",
    "import tensorflow as tf\n",
    "from tensorflow.keras.preprocessing.text import Tokenizer\n",
    "from tensorflow.keras.preprocessing.sequence import pad_sequences\n",
    "from tensorflow.keras.models import Sequential\n",
    "from tensorflow.keras.layers import Embedding, LSTM, Dense"
   ]
  },
  {
   "cell_type": "code",
   "execution_count": 2,
   "id": "0464fb91",
   "metadata": {
    "execution": {
     "iopub.execute_input": "2024-09-06T23:48:02.869263Z",
     "iopub.status.busy": "2024-09-06T23:48:02.868692Z",
     "iopub.status.idle": "2024-09-06T23:48:04.014469Z",
     "shell.execute_reply": "2024-09-06T23:48:04.013431Z"
    },
    "papermill": {
     "duration": 1.153237,
     "end_time": "2024-09-06T23:48:04.017009",
     "exception": false,
     "start_time": "2024-09-06T23:48:02.863772",
     "status": "completed"
    },
    "tags": []
   },
   "outputs": [
    {
     "name": "stdout",
     "output_type": "stream",
     "text": [
      "Taille du vocabulaire : 6745\n"
     ]
    }
   ],
   "source": [
    "import pandas as pd\n",
    "import tensorflow as tf\n",
    "from tensorflow.keras.preprocessing.text import Tokenizer\n",
    "from tensorflow.keras.layers import Embedding, LSTM, Dense, Dropout\n",
    "from tensorflow.keras.models import Sequential\n",
    "from tensorflow.keras.utils import to_categorical\n",
    "from tensorflow.keras.optimizers import Adam\n",
    "from tensorflow.keras.callbacks import ModelCheckpoint, EarlyStopping\n",
    "from tensorflow.keras.regularizers import l2\n",
    "\n",
    "import pickle\n",
    "import numpy as np\n",
    "from sklearn.model_selection import train_test_split\n",
    "\n",
    "with open(\"/kaggle/input/pride-prejudice-subtitles-and-text/PP.txt\", \"r\", encoding=\"utf8\") as f:\n",
    "    data = f.read()\n",
    "\n",
    "# Prétraitement du texte\n",
    "text = data.replace('\\n', ' ').replace('\\r', ' ').replace('\\ufeff', ' ').replace('“', '').replace('”', '')\n",
    "text = ' '.join(text.split())\n",
    "\n",
    "tokenizer = Tokenizer()\n",
    "tokenizer.fit_on_texts([text])\n",
    "\n",
    "# Enregistrer le tokenizer\n",
    "with open('token.pkl', 'wb') as handle:\n",
    "    pickle.dump(tokenizer, handle)\n",
    "\n",
    "vocab_size = len(tokenizer.word_index) + 1\n",
    "print(f\"Taille du vocabulaire : {vocab_size}\")\n",
    "\n",
    "\n",
    "text = text[:100000]"
   ]
  },
  {
   "cell_type": "code",
   "execution_count": null,
   "id": "8e10b2c0",
   "metadata": {
    "papermill": {
     "duration": 0.003646,
     "end_time": "2024-09-06T23:48:04.024689",
     "exception": false,
     "start_time": "2024-09-06T23:48:04.021043",
     "status": "completed"
    },
    "tags": []
   },
   "outputs": [],
   "source": []
  },
  {
   "cell_type": "code",
   "execution_count": 3,
   "id": "14a4c077",
   "metadata": {
    "execution": {
     "iopub.execute_input": "2024-09-06T23:48:04.034286Z",
     "iopub.status.busy": "2024-09-06T23:48:04.033734Z",
     "iopub.status.idle": "2024-09-06T23:48:06.532855Z",
     "shell.execute_reply": "2024-09-06T23:48:06.531998Z"
    },
    "papermill": {
     "duration": 2.506932,
     "end_time": "2024-09-06T23:48:06.535323",
     "exception": false,
     "start_time": "2024-09-06T23:48:04.028391",
     "status": "completed"
    },
    "tags": []
   },
   "outputs": [],
   "source": [
    "my_input_sequences = []\n",
    "for line in text.split('\\n'):\n",
    "    token_list = tokenizer.texts_to_sequences([line])[0]\n",
    "    for i in range(1, len(token_list)):\n",
    "        my_n_gram_sequence = token_list[:i+1]\n",
    "        my_input_sequences.append(my_n_gram_sequence)\n"
   ]
  },
  {
   "cell_type": "code",
   "execution_count": 4,
   "id": "256e15f3",
   "metadata": {
    "execution": {
     "iopub.execute_input": "2024-09-06T23:48:06.544698Z",
     "iopub.status.busy": "2024-09-06T23:48:06.544377Z",
     "iopub.status.idle": "2024-09-06T23:48:17.496932Z",
     "shell.execute_reply": "2024-09-06T23:48:17.496110Z"
    },
    "papermill": {
     "duration": 10.959905,
     "end_time": "2024-09-06T23:48:17.499494",
     "exception": false,
     "start_time": "2024-09-06T23:48:06.539589",
     "status": "completed"
    },
    "tags": []
   },
   "outputs": [],
   "source": [
    "max_sequence_len = max([len(seq) for seq in my_input_sequences])\n",
    "input_sequences = np.array(pad_sequences(my_input_sequences, maxlen=max_sequence_len, padding='pre'))"
   ]
  },
  {
   "cell_type": "code",
   "execution_count": 5,
   "id": "e48d122c",
   "metadata": {
    "execution": {
     "iopub.execute_input": "2024-09-06T23:48:17.509006Z",
     "iopub.status.busy": "2024-09-06T23:48:17.508674Z",
     "iopub.status.idle": "2024-09-06T23:48:18.164232Z",
     "shell.execute_reply": "2024-09-06T23:48:18.163180Z"
    },
    "papermill": {
     "duration": 0.663079,
     "end_time": "2024-09-06T23:48:18.166715",
     "exception": false,
     "start_time": "2024-09-06T23:48:17.503636",
     "status": "completed"
    },
    "tags": []
   },
   "outputs": [],
   "source": [
    "X = input_sequences[:, :-1]\n",
    "y = input_sequences[:, -1]\n",
    "\n",
    "y = np.array(tf.keras.utils.to_categorical(y, num_classes=vocab_size))"
   ]
  },
  {
   "cell_type": "code",
   "execution_count": 6,
   "id": "3e39751c",
   "metadata": {
    "execution": {
     "iopub.execute_input": "2024-09-06T23:48:18.175865Z",
     "iopub.status.busy": "2024-09-06T23:48:18.175540Z",
     "iopub.status.idle": "2024-09-06T23:48:19.661127Z",
     "shell.execute_reply": "2024-09-06T23:48:19.660171Z"
    },
    "papermill": {
     "duration": 1.492766,
     "end_time": "2024-09-06T23:48:19.663583",
     "exception": false,
     "start_time": "2024-09-06T23:48:18.170817",
     "status": "completed"
    },
    "tags": []
   },
   "outputs": [
    {
     "data": {
      "text/html": [
       "<pre style=\"white-space:pre;overflow-x:auto;line-height:normal;font-family:Menlo,'DejaVu Sans Mono',consolas,'Courier New',monospace\"><span style=\"font-weight: bold\">Model: \"sequential\"</span>\n",
       "</pre>\n"
      ],
      "text/plain": [
       "\u001b[1mModel: \"sequential\"\u001b[0m\n"
      ]
     },
     "metadata": {},
     "output_type": "display_data"
    },
    {
     "data": {
      "text/html": [
       "<pre style=\"white-space:pre;overflow-x:auto;line-height:normal;font-family:Menlo,'DejaVu Sans Mono',consolas,'Courier New',monospace\">┏━━━━━━━━━━━━━━━━━━━━━━━━━━━━━━━━━┳━━━━━━━━━━━━━━━━━━━━━━━━┳━━━━━━━━━━━━━━━┓\n",
       "┃<span style=\"font-weight: bold\"> Layer (type)                    </span>┃<span style=\"font-weight: bold\"> Output Shape           </span>┃<span style=\"font-weight: bold\">       Param # </span>┃\n",
       "┡━━━━━━━━━━━━━━━━━━━━━━━━━━━━━━━━━╇━━━━━━━━━━━━━━━━━━━━━━━━╇━━━━━━━━━━━━━━━┩\n",
       "│ embedding (<span style=\"color: #0087ff; text-decoration-color: #0087ff\">Embedding</span>)           │ (<span style=\"color: #00d7ff; text-decoration-color: #00d7ff\">None</span>, <span style=\"color: #00af00; text-decoration-color: #00af00\">18164</span>, <span style=\"color: #00af00; text-decoration-color: #00af00\">60</span>)      │       <span style=\"color: #00af00; text-decoration-color: #00af00\">404,700</span> │\n",
       "├─────────────────────────────────┼────────────────────────┼───────────────┤\n",
       "│ lstm (<span style=\"color: #0087ff; text-decoration-color: #0087ff\">LSTM</span>)                     │ (<span style=\"color: #00d7ff; text-decoration-color: #00d7ff\">None</span>, <span style=\"color: #00af00; text-decoration-color: #00af00\">150</span>)            │       <span style=\"color: #00af00; text-decoration-color: #00af00\">126,600</span> │\n",
       "├─────────────────────────────────┼────────────────────────┼───────────────┤\n",
       "│ dense (<span style=\"color: #0087ff; text-decoration-color: #0087ff\">Dense</span>)                   │ (<span style=\"color: #00d7ff; text-decoration-color: #00d7ff\">None</span>, <span style=\"color: #00af00; text-decoration-color: #00af00\">6745</span>)           │     <span style=\"color: #00af00; text-decoration-color: #00af00\">1,018,495</span> │\n",
       "└─────────────────────────────────┴────────────────────────┴───────────────┘\n",
       "</pre>\n"
      ],
      "text/plain": [
       "┏━━━━━━━━━━━━━━━━━━━━━━━━━━━━━━━━━┳━━━━━━━━━━━━━━━━━━━━━━━━┳━━━━━━━━━━━━━━━┓\n",
       "┃\u001b[1m \u001b[0m\u001b[1mLayer (type)                   \u001b[0m\u001b[1m \u001b[0m┃\u001b[1m \u001b[0m\u001b[1mOutput Shape          \u001b[0m\u001b[1m \u001b[0m┃\u001b[1m \u001b[0m\u001b[1m      Param #\u001b[0m\u001b[1m \u001b[0m┃\n",
       "┡━━━━━━━━━━━━━━━━━━━━━━━━━━━━━━━━━╇━━━━━━━━━━━━━━━━━━━━━━━━╇━━━━━━━━━━━━━━━┩\n",
       "│ embedding (\u001b[38;5;33mEmbedding\u001b[0m)           │ (\u001b[38;5;45mNone\u001b[0m, \u001b[38;5;34m18164\u001b[0m, \u001b[38;5;34m60\u001b[0m)      │       \u001b[38;5;34m404,700\u001b[0m │\n",
       "├─────────────────────────────────┼────────────────────────┼───────────────┤\n",
       "│ lstm (\u001b[38;5;33mLSTM\u001b[0m)                     │ (\u001b[38;5;45mNone\u001b[0m, \u001b[38;5;34m150\u001b[0m)            │       \u001b[38;5;34m126,600\u001b[0m │\n",
       "├─────────────────────────────────┼────────────────────────┼───────────────┤\n",
       "│ dense (\u001b[38;5;33mDense\u001b[0m)                   │ (\u001b[38;5;45mNone\u001b[0m, \u001b[38;5;34m6745\u001b[0m)           │     \u001b[38;5;34m1,018,495\u001b[0m │\n",
       "└─────────────────────────────────┴────────────────────────┴───────────────┘\n"
      ]
     },
     "metadata": {},
     "output_type": "display_data"
    },
    {
     "data": {
      "text/html": [
       "<pre style=\"white-space:pre;overflow-x:auto;line-height:normal;font-family:Menlo,'DejaVu Sans Mono',consolas,'Courier New',monospace\"><span style=\"font-weight: bold\"> Total params: </span><span style=\"color: #00af00; text-decoration-color: #00af00\">1,549,795</span> (5.91 MB)\n",
       "</pre>\n"
      ],
      "text/plain": [
       "\u001b[1m Total params: \u001b[0m\u001b[38;5;34m1,549,795\u001b[0m (5.91 MB)\n"
      ]
     },
     "metadata": {},
     "output_type": "display_data"
    },
    {
     "data": {
      "text/html": [
       "<pre style=\"white-space:pre;overflow-x:auto;line-height:normal;font-family:Menlo,'DejaVu Sans Mono',consolas,'Courier New',monospace\"><span style=\"font-weight: bold\"> Trainable params: </span><span style=\"color: #00af00; text-decoration-color: #00af00\">1,549,795</span> (5.91 MB)\n",
       "</pre>\n"
      ],
      "text/plain": [
       "\u001b[1m Trainable params: \u001b[0m\u001b[38;5;34m1,549,795\u001b[0m (5.91 MB)\n"
      ]
     },
     "metadata": {},
     "output_type": "display_data"
    },
    {
     "data": {
      "text/html": [
       "<pre style=\"white-space:pre;overflow-x:auto;line-height:normal;font-family:Menlo,'DejaVu Sans Mono',consolas,'Courier New',monospace\"><span style=\"font-weight: bold\"> Non-trainable params: </span><span style=\"color: #00af00; text-decoration-color: #00af00\">0</span> (0.00 B)\n",
       "</pre>\n"
      ],
      "text/plain": [
       "\u001b[1m Non-trainable params: \u001b[0m\u001b[38;5;34m0\u001b[0m (0.00 B)\n"
      ]
     },
     "metadata": {},
     "output_type": "display_data"
    },
    {
     "name": "stdout",
     "output_type": "stream",
     "text": [
      "None\n"
     ]
    }
   ],
   "source": [
    "model = Sequential()\n",
    "model.add(Embedding(vocab_size, 60))\n",
    "model.add(LSTM(150))\n",
    "model.add(Dense(vocab_size, activation='softmax'))\n",
    "model.build(input_shape=(None, X.shape[1])) \n",
    "print(model.summary())"
   ]
  },
  {
   "cell_type": "code",
   "execution_count": 7,
   "id": "0e987afd",
   "metadata": {
    "execution": {
     "iopub.execute_input": "2024-09-06T23:48:19.675028Z",
     "iopub.status.busy": "2024-09-06T23:48:19.674265Z",
     "iopub.status.idle": "2024-09-07T06:25:34.979030Z",
     "shell.execute_reply": "2024-09-07T06:25:34.978096Z"
    },
    "papermill": {
     "duration": 23835.31269,
     "end_time": "2024-09-07T06:25:34.981135",
     "exception": false,
     "start_time": "2024-09-06T23:48:19.668445",
     "status": "completed"
    },
    "tags": []
   },
   "outputs": [
    {
     "name": "stdout",
     "output_type": "stream",
     "text": [
      "Epoch 1/50\n",
      "\u001b[1m568/568\u001b[0m \u001b[32m━━━━━━━━━━━━━━━━━━━━\u001b[0m\u001b[37m\u001b[0m \u001b[1m478s\u001b[0m 837ms/step - accuracy: 0.0325 - loss: 6.9413\n",
      "Epoch 2/50\n",
      "\u001b[1m568/568\u001b[0m \u001b[32m━━━━━━━━━━━━━━━━━━━━\u001b[0m\u001b[37m\u001b[0m \u001b[1m476s\u001b[0m 838ms/step - accuracy: 0.0410 - loss: 6.0571\n",
      "Epoch 3/50\n",
      "\u001b[1m568/568\u001b[0m \u001b[32m━━━━━━━━━━━━━━━━━━━━\u001b[0m\u001b[37m\u001b[0m \u001b[1m476s\u001b[0m 838ms/step - accuracy: 0.0572 - loss: 5.8195\n",
      "Epoch 4/50\n",
      "\u001b[1m568/568\u001b[0m \u001b[32m━━━━━━━━━━━━━━━━━━━━\u001b[0m\u001b[37m\u001b[0m \u001b[1m476s\u001b[0m 838ms/step - accuracy: 0.0762 - loss: 5.5806\n",
      "Epoch 5/50\n",
      "\u001b[1m568/568\u001b[0m \u001b[32m━━━━━━━━━━━━━━━━━━━━\u001b[0m\u001b[37m\u001b[0m \u001b[1m476s\u001b[0m 839ms/step - accuracy: 0.1067 - loss: 5.2702\n",
      "Epoch 6/50\n",
      "\u001b[1m568/568\u001b[0m \u001b[32m━━━━━━━━━━━━━━━━━━━━\u001b[0m\u001b[37m\u001b[0m \u001b[1m476s\u001b[0m 838ms/step - accuracy: 0.1201 - loss: 5.0285\n",
      "Epoch 7/50\n",
      "\u001b[1m568/568\u001b[0m \u001b[32m━━━━━━━━━━━━━━━━━━━━\u001b[0m\u001b[37m\u001b[0m \u001b[1m476s\u001b[0m 839ms/step - accuracy: 0.1317 - loss: 4.8144\n",
      "Epoch 8/50\n",
      "\u001b[1m568/568\u001b[0m \u001b[32m━━━━━━━━━━━━━━━━━━━━\u001b[0m\u001b[37m\u001b[0m \u001b[1m476s\u001b[0m 839ms/step - accuracy: 0.1414 - loss: 4.6450\n",
      "Epoch 9/50\n",
      "\u001b[1m568/568\u001b[0m \u001b[32m━━━━━━━━━━━━━━━━━━━━\u001b[0m\u001b[37m\u001b[0m \u001b[1m476s\u001b[0m 839ms/step - accuracy: 0.1596 - loss: 4.4233\n",
      "Epoch 10/50\n",
      "\u001b[1m568/568\u001b[0m \u001b[32m━━━━━━━━━━━━━━━━━━━━\u001b[0m\u001b[37m\u001b[0m \u001b[1m476s\u001b[0m 838ms/step - accuracy: 0.1688 - loss: 4.2701\n",
      "Epoch 11/50\n",
      "\u001b[1m568/568\u001b[0m \u001b[32m━━━━━━━━━━━━━━━━━━━━\u001b[0m\u001b[37m\u001b[0m \u001b[1m476s\u001b[0m 838ms/step - accuracy: 0.1773 - loss: 4.1025\n",
      "Epoch 12/50\n",
      "\u001b[1m568/568\u001b[0m \u001b[32m━━━━━━━━━━━━━━━━━━━━\u001b[0m\u001b[37m\u001b[0m \u001b[1m476s\u001b[0m 838ms/step - accuracy: 0.1997 - loss: 3.9071\n",
      "Epoch 13/50\n",
      "\u001b[1m568/568\u001b[0m \u001b[32m━━━━━━━━━━━━━━━━━━━━\u001b[0m\u001b[37m\u001b[0m \u001b[1m476s\u001b[0m 837ms/step - accuracy: 0.2213 - loss: 3.7362\n",
      "Epoch 14/50\n",
      "\u001b[1m568/568\u001b[0m \u001b[32m━━━━━━━━━━━━━━━━━━━━\u001b[0m\u001b[37m\u001b[0m \u001b[1m476s\u001b[0m 837ms/step - accuracy: 0.2424 - loss: 3.5727\n",
      "Epoch 15/50\n",
      "\u001b[1m568/568\u001b[0m \u001b[32m━━━━━━━━━━━━━━━━━━━━\u001b[0m\u001b[37m\u001b[0m \u001b[1m476s\u001b[0m 838ms/step - accuracy: 0.2656 - loss: 3.4204\n",
      "Epoch 16/50\n",
      "\u001b[1m568/568\u001b[0m \u001b[32m━━━━━━━━━━━━━━━━━━━━\u001b[0m\u001b[37m\u001b[0m \u001b[1m476s\u001b[0m 838ms/step - accuracy: 0.2915 - loss: 3.2469\n",
      "Epoch 17/50\n",
      "\u001b[1m568/568\u001b[0m \u001b[32m━━━━━━━━━━━━━━━━━━━━\u001b[0m\u001b[37m\u001b[0m \u001b[1m476s\u001b[0m 838ms/step - accuracy: 0.3244 - loss: 3.0831\n",
      "Epoch 18/50\n",
      "\u001b[1m568/568\u001b[0m \u001b[32m━━━━━━━━━━━━━━━━━━━━\u001b[0m\u001b[37m\u001b[0m \u001b[1m476s\u001b[0m 838ms/step - accuracy: 0.3529 - loss: 2.9335\n",
      "Epoch 19/50\n",
      "\u001b[1m568/568\u001b[0m \u001b[32m━━━━━━━━━━━━━━━━━━━━\u001b[0m\u001b[37m\u001b[0m \u001b[1m476s\u001b[0m 838ms/step - accuracy: 0.3742 - loss: 2.7961\n",
      "Epoch 20/50\n",
      "\u001b[1m568/568\u001b[0m \u001b[32m━━━━━━━━━━━━━━━━━━━━\u001b[0m\u001b[37m\u001b[0m \u001b[1m476s\u001b[0m 838ms/step - accuracy: 0.4031 - loss: 2.6633\n",
      "Epoch 21/50\n",
      "\u001b[1m568/568\u001b[0m \u001b[32m━━━━━━━━━━━━━━━━━━━━\u001b[0m\u001b[37m\u001b[0m \u001b[1m476s\u001b[0m 838ms/step - accuracy: 0.4425 - loss: 2.5037\n",
      "Epoch 22/50\n",
      "\u001b[1m568/568\u001b[0m \u001b[32m━━━━━━━━━━━━━━━━━━━━\u001b[0m\u001b[37m\u001b[0m \u001b[1m476s\u001b[0m 839ms/step - accuracy: 0.4623 - loss: 2.3898\n",
      "Epoch 23/50\n",
      "\u001b[1m568/568\u001b[0m \u001b[32m━━━━━━━━━━━━━━━━━━━━\u001b[0m\u001b[37m\u001b[0m \u001b[1m476s\u001b[0m 838ms/step - accuracy: 0.4896 - loss: 2.2816\n",
      "Epoch 24/50\n",
      "\u001b[1m568/568\u001b[0m \u001b[32m━━━━━━━━━━━━━━━━━━━━\u001b[0m\u001b[37m\u001b[0m \u001b[1m476s\u001b[0m 838ms/step - accuracy: 0.5185 - loss: 2.1451\n",
      "Epoch 25/50\n",
      "\u001b[1m568/568\u001b[0m \u001b[32m━━━━━━━━━━━━━━━━━━━━\u001b[0m\u001b[37m\u001b[0m \u001b[1m476s\u001b[0m 838ms/step - accuracy: 0.5430 - loss: 2.0435\n",
      "Epoch 26/50\n",
      "\u001b[1m568/568\u001b[0m \u001b[32m━━━━━━━━━━━━━━━━━━━━\u001b[0m\u001b[37m\u001b[0m \u001b[1m476s\u001b[0m 838ms/step - accuracy: 0.5659 - loss: 1.9412\n",
      "Epoch 27/50\n",
      "\u001b[1m568/568\u001b[0m \u001b[32m━━━━━━━━━━━━━━━━━━━━\u001b[0m\u001b[37m\u001b[0m \u001b[1m476s\u001b[0m 838ms/step - accuracy: 0.5927 - loss: 1.8373\n",
      "Epoch 28/50\n",
      "\u001b[1m568/568\u001b[0m \u001b[32m━━━━━━━━━━━━━━━━━━━━\u001b[0m\u001b[37m\u001b[0m \u001b[1m502s\u001b[0m 838ms/step - accuracy: 0.6111 - loss: 1.7467\n",
      "Epoch 29/50\n",
      "\u001b[1m568/568\u001b[0m \u001b[32m━━━━━━━━━━━━━━━━━━━━\u001b[0m\u001b[37m\u001b[0m \u001b[1m476s\u001b[0m 838ms/step - accuracy: 0.6307 - loss: 1.6551\n",
      "Epoch 30/50\n",
      "\u001b[1m568/568\u001b[0m \u001b[32m━━━━━━━━━━━━━━━━━━━━\u001b[0m\u001b[37m\u001b[0m \u001b[1m476s\u001b[0m 838ms/step - accuracy: 0.6527 - loss: 1.5807\n",
      "Epoch 31/50\n",
      "\u001b[1m568/568\u001b[0m \u001b[32m━━━━━━━━━━━━━━━━━━━━\u001b[0m\u001b[37m\u001b[0m \u001b[1m476s\u001b[0m 838ms/step - accuracy: 0.6641 - loss: 1.5068\n",
      "Epoch 32/50\n",
      "\u001b[1m568/568\u001b[0m \u001b[32m━━━━━━━━━━━━━━━━━━━━\u001b[0m\u001b[37m\u001b[0m \u001b[1m476s\u001b[0m 838ms/step - accuracy: 0.6944 - loss: 1.4214\n",
      "Epoch 33/50\n",
      "\u001b[1m568/568\u001b[0m \u001b[32m━━━━━━━━━━━━━━━━━━━━\u001b[0m\u001b[37m\u001b[0m \u001b[1m476s\u001b[0m 838ms/step - accuracy: 0.7135 - loss: 1.3496\n",
      "Epoch 34/50\n",
      "\u001b[1m568/568\u001b[0m \u001b[32m━━━━━━━━━━━━━━━━━━━━\u001b[0m\u001b[37m\u001b[0m \u001b[1m476s\u001b[0m 838ms/step - accuracy: 0.7316 - loss: 1.2690\n",
      "Epoch 35/50\n",
      "\u001b[1m568/568\u001b[0m \u001b[32m━━━━━━━━━━━━━━━━━━━━\u001b[0m\u001b[37m\u001b[0m \u001b[1m476s\u001b[0m 838ms/step - accuracy: 0.7477 - loss: 1.2051\n",
      "Epoch 36/50\n",
      "\u001b[1m568/568\u001b[0m \u001b[32m━━━━━━━━━━━━━━━━━━━━\u001b[0m\u001b[37m\u001b[0m \u001b[1m476s\u001b[0m 838ms/step - accuracy: 0.7664 - loss: 1.1455\n",
      "Epoch 37/50\n",
      "\u001b[1m568/568\u001b[0m \u001b[32m━━━━━━━━━━━━━━━━━━━━\u001b[0m\u001b[37m\u001b[0m \u001b[1m476s\u001b[0m 838ms/step - accuracy: 0.7766 - loss: 1.0824\n",
      "Epoch 38/50\n",
      "\u001b[1m568/568\u001b[0m \u001b[32m━━━━━━━━━━━━━━━━━━━━\u001b[0m\u001b[37m\u001b[0m \u001b[1m476s\u001b[0m 838ms/step - accuracy: 0.7941 - loss: 1.0168\n",
      "Epoch 39/50\n",
      "\u001b[1m568/568\u001b[0m \u001b[32m━━━━━━━━━━━━━━━━━━━━\u001b[0m\u001b[37m\u001b[0m \u001b[1m476s\u001b[0m 838ms/step - accuracy: 0.8109 - loss: 0.9505\n",
      "Epoch 40/50\n",
      "\u001b[1m568/568\u001b[0m \u001b[32m━━━━━━━━━━━━━━━━━━━━\u001b[0m\u001b[37m\u001b[0m \u001b[1m476s\u001b[0m 838ms/step - accuracy: 0.8279 - loss: 0.9026\n",
      "Epoch 41/50\n",
      "\u001b[1m568/568\u001b[0m \u001b[32m━━━━━━━━━━━━━━━━━━━━\u001b[0m\u001b[37m\u001b[0m \u001b[1m476s\u001b[0m 838ms/step - accuracy: 0.8347 - loss: 0.8627\n",
      "Epoch 42/50\n",
      "\u001b[1m568/568\u001b[0m \u001b[32m━━━━━━━━━━━━━━━━━━━━\u001b[0m\u001b[37m\u001b[0m \u001b[1m476s\u001b[0m 838ms/step - accuracy: 0.8548 - loss: 0.7828\n",
      "Epoch 43/50\n",
      "\u001b[1m568/568\u001b[0m \u001b[32m━━━━━━━━━━━━━━━━━━━━\u001b[0m\u001b[37m\u001b[0m \u001b[1m476s\u001b[0m 839ms/step - accuracy: 0.8670 - loss: 0.7423\n",
      "Epoch 44/50\n",
      "\u001b[1m568/568\u001b[0m \u001b[32m━━━━━━━━━━━━━━━━━━━━\u001b[0m\u001b[37m\u001b[0m \u001b[1m476s\u001b[0m 838ms/step - accuracy: 0.8770 - loss: 0.6914\n",
      "Epoch 45/50\n",
      "\u001b[1m568/568\u001b[0m \u001b[32m━━━━━━━━━━━━━━━━━━━━\u001b[0m\u001b[37m\u001b[0m \u001b[1m476s\u001b[0m 838ms/step - accuracy: 0.8837 - loss: 0.6608\n",
      "Epoch 46/50\n",
      "\u001b[1m568/568\u001b[0m \u001b[32m━━━━━━━━━━━━━━━━━━━━\u001b[0m\u001b[37m\u001b[0m \u001b[1m476s\u001b[0m 838ms/step - accuracy: 0.8939 - loss: 0.6158\n",
      "Epoch 47/50\n",
      "\u001b[1m568/568\u001b[0m \u001b[32m━━━━━━━━━━━━━━━━━━━━\u001b[0m\u001b[37m\u001b[0m \u001b[1m476s\u001b[0m 838ms/step - accuracy: 0.9068 - loss: 0.5745\n",
      "Epoch 48/50\n",
      "\u001b[1m568/568\u001b[0m \u001b[32m━━━━━━━━━━━━━━━━━━━━\u001b[0m\u001b[37m\u001b[0m \u001b[1m476s\u001b[0m 838ms/step - accuracy: 0.9136 - loss: 0.5291\n",
      "Epoch 49/50\n",
      "\u001b[1m568/568\u001b[0m \u001b[32m━━━━━━━━━━━━━━━━━━━━\u001b[0m\u001b[37m\u001b[0m \u001b[1m477s\u001b[0m 839ms/step - accuracy: 0.9239 - loss: 0.4948\n",
      "Epoch 50/50\n",
      "\u001b[1m568/568\u001b[0m \u001b[32m━━━━━━━━━━━━━━━━━━━━\u001b[0m\u001b[37m\u001b[0m \u001b[1m476s\u001b[0m 839ms/step - accuracy: 0.9278 - loss: 0.4748\n"
     ]
    },
    {
     "data": {
      "text/plain": [
       "<keras.src.callbacks.history.History at 0x7dcb185bceb0>"
      ]
     },
     "execution_count": 7,
     "metadata": {},
     "output_type": "execute_result"
    }
   ],
   "source": [
    "model.compile(loss='categorical_crossentropy', optimizer='adam', metrics=['accuracy'])\n",
    "model.fit(X, y, epochs=50, verbose=1)"
   ]
  },
  {
   "cell_type": "code",
   "execution_count": 8,
   "id": "8caeda09",
   "metadata": {
    "execution": {
     "iopub.execute_input": "2024-09-07T06:25:39.682833Z",
     "iopub.status.busy": "2024-09-07T06:25:39.681871Z",
     "iopub.status.idle": "2024-09-07T06:25:41.427277Z",
     "shell.execute_reply": "2024-09-07T06:25:41.426218Z"
    },
    "papermill": {
     "duration": 4.093716,
     "end_time": "2024-09-07T06:25:41.429430",
     "exception": false,
     "start_time": "2024-09-07T06:25:37.335714",
     "status": "completed"
    },
    "tags": []
   },
   "outputs": [
    {
     "name": "stdout",
     "output_type": "stream",
     "text": [
      "\u001b[1m1/1\u001b[0m \u001b[32m━━━━━━━━━━━━━━━━━━━━\u001b[0m\u001b[37m\u001b[0m \u001b[1m0s\u001b[0m 380ms/step\n",
      "\u001b[1m1/1\u001b[0m \u001b[32m━━━━━━━━━━━━━━━━━━━━\u001b[0m\u001b[37m\u001b[0m \u001b[1m0s\u001b[0m 222ms/step\n",
      "\u001b[1m1/1\u001b[0m \u001b[32m━━━━━━━━━━━━━━━━━━━━\u001b[0m\u001b[37m\u001b[0m \u001b[1m0s\u001b[0m 222ms/step\n",
      "\u001b[1m1/1\u001b[0m \u001b[32m━━━━━━━━━━━━━━━━━━━━\u001b[0m\u001b[37m\u001b[0m \u001b[1m0s\u001b[0m 219ms/step\n",
      "\u001b[1m1/1\u001b[0m \u001b[32m━━━━━━━━━━━━━━━━━━━━\u001b[0m\u001b[37m\u001b[0m \u001b[1m0s\u001b[0m 222ms/step\n",
      "\u001b[1m1/1\u001b[0m \u001b[32m━━━━━━━━━━━━━━━━━━━━\u001b[0m\u001b[37m\u001b[0m \u001b[1m0s\u001b[0m 217ms/step\n",
      "But i want to talk a secret and at length they\n"
     ]
    }
   ],
   "source": [
    "input_text = \"But i want to talk\"\n",
    "predict_next_words= 6\n",
    "\n",
    "for _ in range(predict_next_words):\n",
    "    token_list = tokenizer.texts_to_sequences([input_text])[0]\n",
    "    token_list = pad_sequences([token_list], maxlen=max_sequence_len-1, padding='pre')\n",
    "    predicted = np.argmax(model.predict(token_list), axis=-1)\n",
    "    output_word = \"\"\n",
    "    for word, index in tokenizer.word_index.items():\n",
    "        if index == predicted:\n",
    "            output_word = word\n",
    "            break\n",
    "    input_text += \" \" + output_word\n",
    "\n",
    "print(input_text)"
   ]
  },
  {
   "cell_type": "code",
   "execution_count": null,
   "id": "5a123d47",
   "metadata": {
    "papermill": {
     "duration": 2.366653,
     "end_time": "2024-09-07T06:25:46.141971",
     "exception": false,
     "start_time": "2024-09-07T06:25:43.775318",
     "status": "completed"
    },
    "tags": []
   },
   "outputs": [],
   "source": []
  },
  {
   "cell_type": "code",
   "execution_count": null,
   "id": "851b7d76",
   "metadata": {
    "papermill": {
     "duration": 2.335843,
     "end_time": "2024-09-07T06:25:50.803635",
     "exception": false,
     "start_time": "2024-09-07T06:25:48.467792",
     "status": "completed"
    },
    "tags": []
   },
   "outputs": [],
   "source": []
  }
 ],
 "metadata": {
  "kaggle": {
   "accelerator": "gpu",
   "dataSources": [
    {
     "datasetId": 1357760,
     "sourceId": 2256379,
     "sourceType": "datasetVersion"
    }
   ],
   "dockerImageVersionId": 30761,
   "isGpuEnabled": true,
   "isInternetEnabled": true,
   "language": "python",
   "sourceType": "notebook"
  },
  "kernelspec": {
   "display_name": "Python 3",
   "language": "python",
   "name": "python3"
  },
  "language_info": {
   "codemirror_mode": {
    "name": "ipython",
    "version": 3
   },
   "file_extension": ".py",
   "mimetype": "text/x-python",
   "name": "python",
   "nbconvert_exporter": "python",
   "pygments_lexer": "ipython3",
   "version": "3.10.14"
  },
  "papermill": {
   "default_parameters": {},
   "duration": 23890.164003,
   "end_time": "2024-09-07T06:25:56.975326",
   "environment_variables": {},
   "exception": null,
   "input_path": "__notebook__.ipynb",
   "output_path": "__notebook__.ipynb",
   "parameters": {},
   "start_time": "2024-09-06T23:47:46.811323",
   "version": "2.6.0"
  }
 },
 "nbformat": 4,
 "nbformat_minor": 5
}
