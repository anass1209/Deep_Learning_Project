{
 "cells": [
  {
   "cell_type": "code",
   "execution_count": 1,
   "id": "904d51c7",
   "metadata": {
    "_cell_guid": "b1076dfc-b9ad-4769-8c92-a6c4dae69d19",
    "_uuid": "8f2839f25d086af736a60e9eeb907d3b93b6e0e5",
    "execution": {
     "iopub.execute_input": "2024-09-07T13:13:12.657259Z",
     "iopub.status.busy": "2024-09-07T13:13:12.656782Z",
     "iopub.status.idle": "2024-09-07T13:13:30.147856Z",
     "shell.execute_reply": "2024-09-07T13:13:30.146384Z"
    },
    "papermill": {
     "duration": 17.501215,
     "end_time": "2024-09-07T13:13:30.150637",
     "exception": false,
     "start_time": "2024-09-07T13:13:12.649422",
     "status": "completed"
    },
    "tags": []
   },
   "outputs": [
    {
     "name": "stdout",
     "output_type": "stream",
     "text": [
      "Taille du vocabulaire : 6745\n"
     ]
    }
   ],
   "source": [
    "import pandas as pd\n",
    "import tensorflow as tf\n",
    "from tensorflow.keras.preprocessing.text import Tokenizer\n",
    "from tensorflow.keras.layers import Embedding, GRU, Dense, Dropout\n",
    "from tensorflow.keras.models import Sequential\n",
    "from tensorflow.keras.utils import to_categorical\n",
    "from tensorflow.keras.optimizers import Adam\n",
    "from tensorflow.keras.callbacks import ModelCheckpoint, EarlyStopping\n",
    "from tensorflow.keras.regularizers import l2\n",
    "\n",
    "import pickle\n",
    "import numpy as np\n",
    "from sklearn.model_selection import train_test_split\n",
    "\n",
    "with open(\"/kaggle/input/pride-prejudice-subtitles-and-text/PP.txt\", \"r\", encoding=\"utf8\") as f:\n",
    "    data = f.read()\n",
    "\n",
    "# Prétraitement du texte\n",
    "text = data.replace('\\n', ' ').replace('\\r', ' ').replace('\\ufeff', ' ').replace('“', '').replace('”', '')\n",
    "text = ' '.join(text.split())\n",
    "\n",
    "tokenizer = Tokenizer()\n",
    "tokenizer.fit_on_texts([text])\n",
    "\n",
    "# Enregistrer le tokenizer\n",
    "with open('token.pkl', 'wb') as handle:\n",
    "    pickle.dump(tokenizer, handle)\n",
    "\n",
    "vocab_size = len(tokenizer.word_index) + 1\n",
    "print(f\"Taille du vocabulaire : {vocab_size}\")\n",
    "\n"
   ]
  },
  {
   "cell_type": "code",
   "execution_count": 2,
   "id": "ce5f64e2",
   "metadata": {
    "execution": {
     "iopub.execute_input": "2024-09-07T13:13:30.160628Z",
     "iopub.status.busy": "2024-09-07T13:13:30.159869Z",
     "iopub.status.idle": "2024-09-07T13:13:30.770189Z",
     "shell.execute_reply": "2024-09-07T13:13:30.768734Z"
    },
    "papermill": {
     "duration": 0.618439,
     "end_time": "2024-09-07T13:13:30.773143",
     "exception": false,
     "start_time": "2024-09-07T13:13:30.154704",
     "status": "completed"
    },
    "tags": []
   },
   "outputs": [],
   "source": [
    "sequence_data = tokenizer.texts_to_sequences([text])[0]\n",
    "sequences = []\n",
    "for i in range(5, len(sequence_data)):\n",
    "    words = sequence_data[i-5:i+1]\n",
    "    sequences.append(words)\n",
    "\n",
    "sequences = np.array(sequences)\n",
    "\n"
   ]
  },
  {
   "cell_type": "code",
   "execution_count": null,
   "id": "cd070116",
   "metadata": {
    "papermill": {
     "duration": 0.003964,
     "end_time": "2024-09-07T13:13:30.780964",
     "exception": false,
     "start_time": "2024-09-07T13:13:30.777000",
     "status": "completed"
    },
    "tags": []
   },
   "outputs": [],
   "source": []
  },
  {
   "cell_type": "code",
   "execution_count": 3,
   "id": "5f2c60c4",
   "metadata": {
    "execution": {
     "iopub.execute_input": "2024-09-07T13:13:30.790214Z",
     "iopub.status.busy": "2024-09-07T13:13:30.789774Z",
     "iopub.status.idle": "2024-09-07T13:13:31.172042Z",
     "shell.execute_reply": "2024-09-07T13:13:31.170463Z"
    },
    "papermill": {
     "duration": 0.390106,
     "end_time": "2024-09-07T13:13:31.174826",
     "exception": false,
     "start_time": "2024-09-07T13:13:30.784720",
     "status": "completed"
    },
    "tags": []
   },
   "outputs": [],
   "source": [
    "# Diviser les données en entrée et sortie\n",
    "X = sequences[:, :-1]  \n",
    "y = sequences[:, -1]  \n",
    "y = to_categorical(y, num_classes=vocab_size)\n",
    "\n",
    "\n",
    "\n"
   ]
  },
  {
   "cell_type": "code",
   "execution_count": 4,
   "id": "f6dba942",
   "metadata": {
    "execution": {
     "iopub.execute_input": "2024-09-07T13:13:31.185680Z",
     "iopub.status.busy": "2024-09-07T13:13:31.184096Z",
     "iopub.status.idle": "2024-09-07T13:13:31.345981Z",
     "shell.execute_reply": "2024-09-07T13:13:31.344759Z"
    },
    "papermill": {
     "duration": 0.170828,
     "end_time": "2024-09-07T13:13:31.349624",
     "exception": false,
     "start_time": "2024-09-07T13:13:31.178796",
     "status": "completed"
    },
    "tags": []
   },
   "outputs": [
    {
     "data": {
      "text/html": [
       "<pre style=\"white-space:pre;overflow-x:auto;line-height:normal;font-family:Menlo,'DejaVu Sans Mono',consolas,'Courier New',monospace\"><span style=\"font-weight: bold\">Model: \"sequential\"</span>\n",
       "</pre>\n"
      ],
      "text/plain": [
       "\u001b[1mModel: \"sequential\"\u001b[0m\n"
      ]
     },
     "metadata": {},
     "output_type": "display_data"
    },
    {
     "data": {
      "text/html": [
       "<pre style=\"white-space:pre;overflow-x:auto;line-height:normal;font-family:Menlo,'DejaVu Sans Mono',consolas,'Courier New',monospace\">┏━━━━━━━━━━━━━━━━━━━━━━━━━━━━━━━━━┳━━━━━━━━━━━━━━━━━━━━━━━━┳━━━━━━━━━━━━━━━┓\n",
       "┃<span style=\"font-weight: bold\"> Layer (type)                    </span>┃<span style=\"font-weight: bold\"> Output Shape           </span>┃<span style=\"font-weight: bold\">       Param # </span>┃\n",
       "┡━━━━━━━━━━━━━━━━━━━━━━━━━━━━━━━━━╇━━━━━━━━━━━━━━━━━━━━━━━━╇━━━━━━━━━━━━━━━┩\n",
       "│ embedding (<span style=\"color: #0087ff; text-decoration-color: #0087ff\">Embedding</span>)           │ (<span style=\"color: #00d7ff; text-decoration-color: #00d7ff\">None</span>, <span style=\"color: #00af00; text-decoration-color: #00af00\">5</span>, <span style=\"color: #00af00; text-decoration-color: #00af00\">50</span>)          │       <span style=\"color: #00af00; text-decoration-color: #00af00\">337,250</span> │\n",
       "├─────────────────────────────────┼────────────────────────┼───────────────┤\n",
       "│ gru (<span style=\"color: #0087ff; text-decoration-color: #0087ff\">GRU</span>)                       │ (<span style=\"color: #00d7ff; text-decoration-color: #00d7ff\">None</span>, <span style=\"color: #00af00; text-decoration-color: #00af00\">120</span>)            │        <span style=\"color: #00af00; text-decoration-color: #00af00\">61,920</span> │\n",
       "├─────────────────────────────────┼────────────────────────┼───────────────┤\n",
       "│ dense (<span style=\"color: #0087ff; text-decoration-color: #0087ff\">Dense</span>)                   │ (<span style=\"color: #00d7ff; text-decoration-color: #00d7ff\">None</span>, <span style=\"color: #00af00; text-decoration-color: #00af00\">6745</span>)           │       <span style=\"color: #00af00; text-decoration-color: #00af00\">816,145</span> │\n",
       "└─────────────────────────────────┴────────────────────────┴───────────────┘\n",
       "</pre>\n"
      ],
      "text/plain": [
       "┏━━━━━━━━━━━━━━━━━━━━━━━━━━━━━━━━━┳━━━━━━━━━━━━━━━━━━━━━━━━┳━━━━━━━━━━━━━━━┓\n",
       "┃\u001b[1m \u001b[0m\u001b[1mLayer (type)                   \u001b[0m\u001b[1m \u001b[0m┃\u001b[1m \u001b[0m\u001b[1mOutput Shape          \u001b[0m\u001b[1m \u001b[0m┃\u001b[1m \u001b[0m\u001b[1m      Param #\u001b[0m\u001b[1m \u001b[0m┃\n",
       "┡━━━━━━━━━━━━━━━━━━━━━━━━━━━━━━━━━╇━━━━━━━━━━━━━━━━━━━━━━━━╇━━━━━━━━━━━━━━━┩\n",
       "│ embedding (\u001b[38;5;33mEmbedding\u001b[0m)           │ (\u001b[38;5;45mNone\u001b[0m, \u001b[38;5;34m5\u001b[0m, \u001b[38;5;34m50\u001b[0m)          │       \u001b[38;5;34m337,250\u001b[0m │\n",
       "├─────────────────────────────────┼────────────────────────┼───────────────┤\n",
       "│ gru (\u001b[38;5;33mGRU\u001b[0m)                       │ (\u001b[38;5;45mNone\u001b[0m, \u001b[38;5;34m120\u001b[0m)            │        \u001b[38;5;34m61,920\u001b[0m │\n",
       "├─────────────────────────────────┼────────────────────────┼───────────────┤\n",
       "│ dense (\u001b[38;5;33mDense\u001b[0m)                   │ (\u001b[38;5;45mNone\u001b[0m, \u001b[38;5;34m6745\u001b[0m)           │       \u001b[38;5;34m816,145\u001b[0m │\n",
       "└─────────────────────────────────┴────────────────────────┴───────────────┘\n"
      ]
     },
     "metadata": {},
     "output_type": "display_data"
    },
    {
     "data": {
      "text/html": [
       "<pre style=\"white-space:pre;overflow-x:auto;line-height:normal;font-family:Menlo,'DejaVu Sans Mono',consolas,'Courier New',monospace\"><span style=\"font-weight: bold\"> Total params: </span><span style=\"color: #00af00; text-decoration-color: #00af00\">1,215,315</span> (4.64 MB)\n",
       "</pre>\n"
      ],
      "text/plain": [
       "\u001b[1m Total params: \u001b[0m\u001b[38;5;34m1,215,315\u001b[0m (4.64 MB)\n"
      ]
     },
     "metadata": {},
     "output_type": "display_data"
    },
    {
     "data": {
      "text/html": [
       "<pre style=\"white-space:pre;overflow-x:auto;line-height:normal;font-family:Menlo,'DejaVu Sans Mono',consolas,'Courier New',monospace\"><span style=\"font-weight: bold\"> Trainable params: </span><span style=\"color: #00af00; text-decoration-color: #00af00\">1,215,315</span> (4.64 MB)\n",
       "</pre>\n"
      ],
      "text/plain": [
       "\u001b[1m Trainable params: \u001b[0m\u001b[38;5;34m1,215,315\u001b[0m (4.64 MB)\n"
      ]
     },
     "metadata": {},
     "output_type": "display_data"
    },
    {
     "data": {
      "text/html": [
       "<pre style=\"white-space:pre;overflow-x:auto;line-height:normal;font-family:Menlo,'DejaVu Sans Mono',consolas,'Courier New',monospace\"><span style=\"font-weight: bold\"> Non-trainable params: </span><span style=\"color: #00af00; text-decoration-color: #00af00\">0</span> (0.00 B)\n",
       "</pre>\n"
      ],
      "text/plain": [
       "\u001b[1m Non-trainable params: \u001b[0m\u001b[38;5;34m0\u001b[0m (0.00 B)\n"
      ]
     },
     "metadata": {},
     "output_type": "display_data"
    },
    {
     "name": "stdout",
     "output_type": "stream",
     "text": [
      "None\n"
     ]
    }
   ],
   "source": [
    "# Définir le modèle\n",
    "model = Sequential()\n",
    "model.add(Embedding(vocab_size, 50))\n",
    "model.add(GRU(120))  # Remplace LSTM par GRU\n",
    "model.add(Dense(vocab_size, activation='softmax'))\n",
    "model.build(input_shape=(None, X.shape[1])) \n",
    "print(model.summary())"
   ]
  },
  {
   "cell_type": "code",
   "execution_count": 5,
   "id": "9f6a6b54",
   "metadata": {
    "execution": {
     "iopub.execute_input": "2024-09-07T13:13:31.362202Z",
     "iopub.status.busy": "2024-09-07T13:13:31.361756Z",
     "iopub.status.idle": "2024-09-07T14:49:37.348330Z",
     "shell.execute_reply": "2024-09-07T14:49:37.345763Z"
    },
    "papermill": {
     "duration": 5765.996741,
     "end_time": "2024-09-07T14:49:37.351936",
     "exception": false,
     "start_time": "2024-09-07T13:13:31.355195",
     "status": "completed"
    },
    "tags": []
   },
   "outputs": [
    {
     "name": "stdout",
     "output_type": "stream",
     "text": [
      "Epoch 1/80\n",
      "\u001b[1m3809/3809\u001b[0m \u001b[32m━━━━━━━━━━━━━━━━━━━━\u001b[0m\u001b[37m\u001b[0m \u001b[1m67s\u001b[0m 17ms/step - accuracy: 0.0497 - loss: 6.4830\n",
      "Epoch 2/80\n",
      "\u001b[1m3809/3809\u001b[0m \u001b[32m━━━━━━━━━━━━━━━━━━━━\u001b[0m\u001b[37m\u001b[0m \u001b[1m64s\u001b[0m 17ms/step - accuracy: 0.1210 - loss: 5.3772\n",
      "Epoch 3/80\n",
      "\u001b[1m3809/3809\u001b[0m \u001b[32m━━━━━━━━━━━━━━━━━━━━\u001b[0m\u001b[37m\u001b[0m \u001b[1m82s\u001b[0m 17ms/step - accuracy: 0.1462 - loss: 4.9742\n",
      "Epoch 4/80\n",
      "\u001b[1m3809/3809\u001b[0m \u001b[32m━━━━━━━━━━━━━━━━━━━━\u001b[0m\u001b[37m\u001b[0m \u001b[1m64s\u001b[0m 17ms/step - accuracy: 0.1660 - loss: 4.6532\n",
      "Epoch 5/80\n",
      "\u001b[1m3809/3809\u001b[0m \u001b[32m━━━━━━━━━━━━━━━━━━━━\u001b[0m\u001b[37m\u001b[0m \u001b[1m82s\u001b[0m 17ms/step - accuracy: 0.1832 - loss: 4.3793\n",
      "Epoch 6/80\n",
      "\u001b[1m3809/3809\u001b[0m \u001b[32m━━━━━━━━━━━━━━━━━━━━\u001b[0m\u001b[37m\u001b[0m \u001b[1m64s\u001b[0m 17ms/step - accuracy: 0.2044 - loss: 4.1159\n",
      "Epoch 7/80\n",
      "\u001b[1m3809/3809\u001b[0m \u001b[32m━━━━━━━━━━━━━━━━━━━━\u001b[0m\u001b[37m\u001b[0m \u001b[1m82s\u001b[0m 17ms/step - accuracy: 0.2268 - loss: 3.8882\n",
      "Epoch 8/80\n",
      "\u001b[1m3809/3809\u001b[0m \u001b[32m━━━━━━━━━━━━━━━━━━━━\u001b[0m\u001b[37m\u001b[0m \u001b[1m64s\u001b[0m 17ms/step - accuracy: 0.2529 - loss: 3.6703\n",
      "Epoch 9/80\n",
      "\u001b[1m3809/3809\u001b[0m \u001b[32m━━━━━━━━━━━━━━━━━━━━\u001b[0m\u001b[37m\u001b[0m \u001b[1m68s\u001b[0m 18ms/step - accuracy: 0.2796 - loss: 3.4821\n",
      "Epoch 10/80\n",
      "\u001b[1m3809/3809\u001b[0m \u001b[32m━━━━━━━━━━━━━━━━━━━━\u001b[0m\u001b[37m\u001b[0m \u001b[1m66s\u001b[0m 17ms/step - accuracy: 0.3092 - loss: 3.2928\n",
      "Epoch 11/80\n",
      "\u001b[1m3809/3809\u001b[0m \u001b[32m━━━━━━━━━━━━━━━━━━━━\u001b[0m\u001b[37m\u001b[0m \u001b[1m83s\u001b[0m 18ms/step - accuracy: 0.3403 - loss: 3.1116\n",
      "Epoch 12/80\n",
      "\u001b[1m3809/3809\u001b[0m \u001b[32m━━━━━━━━━━━━━━━━━━━━\u001b[0m\u001b[37m\u001b[0m \u001b[1m84s\u001b[0m 18ms/step - accuracy: 0.3644 - loss: 2.9543\n",
      "Epoch 13/80\n",
      "\u001b[1m3809/3809\u001b[0m \u001b[32m━━━━━━━━━━━━━━━━━━━━\u001b[0m\u001b[37m\u001b[0m \u001b[1m68s\u001b[0m 18ms/step - accuracy: 0.3926 - loss: 2.8098\n",
      "Epoch 14/80\n",
      "\u001b[1m3809/3809\u001b[0m \u001b[32m━━━━━━━━━━━━━━━━━━━━\u001b[0m\u001b[37m\u001b[0m \u001b[1m81s\u001b[0m 18ms/step - accuracy: 0.4152 - loss: 2.6880\n",
      "Epoch 15/80\n",
      "\u001b[1m3809/3809\u001b[0m \u001b[32m━━━━━━━━━━━━━━━━━━━━\u001b[0m\u001b[37m\u001b[0m \u001b[1m66s\u001b[0m 17ms/step - accuracy: 0.4360 - loss: 2.5707\n",
      "Epoch 16/80\n",
      "\u001b[1m3809/3809\u001b[0m \u001b[32m━━━━━━━━━━━━━━━━━━━━\u001b[0m\u001b[37m\u001b[0m \u001b[1m66s\u001b[0m 17ms/step - accuracy: 0.4563 - loss: 2.4731\n",
      "Epoch 17/80\n",
      "\u001b[1m3809/3809\u001b[0m \u001b[32m━━━━━━━━━━━━━━━━━━━━\u001b[0m\u001b[37m\u001b[0m \u001b[1m81s\u001b[0m 17ms/step - accuracy: 0.4732 - loss: 2.3762\n",
      "Epoch 18/80\n",
      "\u001b[1m3809/3809\u001b[0m \u001b[32m━━━━━━━━━━━━━━━━━━━━\u001b[0m\u001b[37m\u001b[0m \u001b[1m82s\u001b[0m 17ms/step - accuracy: 0.4898 - loss: 2.2931\n",
      "Epoch 19/80\n",
      "\u001b[1m3809/3809\u001b[0m \u001b[32m━━━━━━━━━━━━━━━━━━━━\u001b[0m\u001b[37m\u001b[0m \u001b[1m65s\u001b[0m 17ms/step - accuracy: 0.5087 - loss: 2.2095\n",
      "Epoch 20/80\n",
      "\u001b[1m3809/3809\u001b[0m \u001b[32m━━━━━━━━━━━━━━━━━━━━\u001b[0m\u001b[37m\u001b[0m \u001b[1m66s\u001b[0m 17ms/step - accuracy: 0.5206 - loss: 2.1385\n",
      "Epoch 21/80\n",
      "\u001b[1m3809/3809\u001b[0m \u001b[32m━━━━━━━━━━━━━━━━━━━━\u001b[0m\u001b[37m\u001b[0m \u001b[1m81s\u001b[0m 17ms/step - accuracy: 0.5343 - loss: 2.0742\n",
      "Epoch 22/80\n",
      "\u001b[1m3809/3809\u001b[0m \u001b[32m━━━━━━━━━━━━━━━━━━━━\u001b[0m\u001b[37m\u001b[0m \u001b[1m83s\u001b[0m 17ms/step - accuracy: 0.5468 - loss: 2.0072\n",
      "Epoch 23/80\n",
      "\u001b[1m3809/3809\u001b[0m \u001b[32m━━━━━━━━━━━━━━━━━━━━\u001b[0m\u001b[37m\u001b[0m \u001b[1m66s\u001b[0m 17ms/step - accuracy: 0.5569 - loss: 1.9606\n",
      "Epoch 24/80\n",
      "\u001b[1m3809/3809\u001b[0m \u001b[32m━━━━━━━━━━━━━━━━━━━━\u001b[0m\u001b[37m\u001b[0m \u001b[1m66s\u001b[0m 17ms/step - accuracy: 0.5675 - loss: 1.9037\n",
      "Epoch 25/80\n",
      "\u001b[1m3809/3809\u001b[0m \u001b[32m━━━━━━━━━━━━━━━━━━━━\u001b[0m\u001b[37m\u001b[0m \u001b[1m66s\u001b[0m 17ms/step - accuracy: 0.5792 - loss: 1.8532\n",
      "Epoch 26/80\n",
      "\u001b[1m3809/3809\u001b[0m \u001b[32m━━━━━━━━━━━━━━━━━━━━\u001b[0m\u001b[37m\u001b[0m \u001b[1m67s\u001b[0m 18ms/step - accuracy: 0.5849 - loss: 1.8161\n",
      "Epoch 27/80\n",
      "\u001b[1m3809/3809\u001b[0m \u001b[32m━━━━━━━━━━━━━━━━━━━━\u001b[0m\u001b[37m\u001b[0m \u001b[1m67s\u001b[0m 17ms/step - accuracy: 0.5932 - loss: 1.7810\n",
      "Epoch 28/80\n",
      "\u001b[1m3809/3809\u001b[0m \u001b[32m━━━━━━━━━━━━━━━━━━━━\u001b[0m\u001b[37m\u001b[0m \u001b[1m66s\u001b[0m 17ms/step - accuracy: 0.5998 - loss: 1.7457\n",
      "Epoch 29/80\n",
      "\u001b[1m3809/3809\u001b[0m \u001b[32m━━━━━━━━━━━━━━━━━━━━\u001b[0m\u001b[37m\u001b[0m \u001b[1m67s\u001b[0m 18ms/step - accuracy: 0.6077 - loss: 1.7026\n",
      "Epoch 30/80\n",
      "\u001b[1m3809/3809\u001b[0m \u001b[32m━━━━━━━━━━━━━━━━━━━━\u001b[0m\u001b[37m\u001b[0m \u001b[1m68s\u001b[0m 18ms/step - accuracy: 0.6152 - loss: 1.6731\n",
      "Epoch 31/80\n",
      "\u001b[1m3809/3809\u001b[0m \u001b[32m━━━━━━━━━━━━━━━━━━━━\u001b[0m\u001b[37m\u001b[0m \u001b[1m85s\u001b[0m 19ms/step - accuracy: 0.6219 - loss: 1.6406\n",
      "Epoch 32/80\n",
      "\u001b[1m3809/3809\u001b[0m \u001b[32m━━━━━━━━━━━━━━━━━━━━\u001b[0m\u001b[37m\u001b[0m \u001b[1m79s\u001b[0m 18ms/step - accuracy: 0.6286 - loss: 1.6107\n",
      "Epoch 33/80\n",
      "\u001b[1m3809/3809\u001b[0m \u001b[32m━━━━━━━━━━━━━━━━━━━━\u001b[0m\u001b[37m\u001b[0m \u001b[1m68s\u001b[0m 18ms/step - accuracy: 0.6347 - loss: 1.5779\n",
      "Epoch 34/80\n",
      "\u001b[1m3809/3809\u001b[0m \u001b[32m━━━━━━━━━━━━━━━━━━━━\u001b[0m\u001b[37m\u001b[0m \u001b[1m81s\u001b[0m 18ms/step - accuracy: 0.6362 - loss: 1.5650\n",
      "Epoch 35/80\n",
      "\u001b[1m3809/3809\u001b[0m \u001b[32m━━━━━━━━━━━━━━━━━━━━\u001b[0m\u001b[37m\u001b[0m \u001b[1m68s\u001b[0m 18ms/step - accuracy: 0.6422 - loss: 1.5323\n",
      "Epoch 36/80\n",
      "\u001b[1m3809/3809\u001b[0m \u001b[32m━━━━━━━━━━━━━━━━━━━━\u001b[0m\u001b[37m\u001b[0m \u001b[1m68s\u001b[0m 18ms/step - accuracy: 0.6453 - loss: 1.5190\n",
      "Epoch 37/80\n",
      "\u001b[1m3809/3809\u001b[0m \u001b[32m━━━━━━━━━━━━━━━━━━━━\u001b[0m\u001b[37m\u001b[0m \u001b[1m82s\u001b[0m 18ms/step - accuracy: 0.6540 - loss: 1.4890\n",
      "Epoch 38/80\n",
      "\u001b[1m3809/3809\u001b[0m \u001b[32m━━━━━━━━━━━━━━━━━━━━\u001b[0m\u001b[37m\u001b[0m \u001b[1m68s\u001b[0m 18ms/step - accuracy: 0.6567 - loss: 1.4732\n",
      "Epoch 39/80\n",
      "\u001b[1m3809/3809\u001b[0m \u001b[32m━━━━━━━━━━━━━━━━━━━━\u001b[0m\u001b[37m\u001b[0m \u001b[1m69s\u001b[0m 18ms/step - accuracy: 0.6589 - loss: 1.4564\n",
      "Epoch 40/80\n",
      "\u001b[1m3809/3809\u001b[0m \u001b[32m━━━━━━━━━━━━━━━━━━━━\u001b[0m\u001b[37m\u001b[0m \u001b[1m68s\u001b[0m 18ms/step - accuracy: 0.6603 - loss: 1.4453\n",
      "Epoch 41/80\n",
      "\u001b[1m3809/3809\u001b[0m \u001b[32m━━━━━━━━━━━━━━━━━━━━\u001b[0m\u001b[37m\u001b[0m \u001b[1m67s\u001b[0m 17ms/step - accuracy: 0.6662 - loss: 1.4270\n",
      "Epoch 42/80\n",
      "\u001b[1m3809/3809\u001b[0m \u001b[32m━━━━━━━━━━━━━━━━━━━━\u001b[0m\u001b[37m\u001b[0m \u001b[1m67s\u001b[0m 17ms/step - accuracy: 0.6713 - loss: 1.4042\n",
      "Epoch 43/80\n",
      "\u001b[1m3809/3809\u001b[0m \u001b[32m━━━━━━━━━━━━━━━━━━━━\u001b[0m\u001b[37m\u001b[0m \u001b[1m66s\u001b[0m 17ms/step - accuracy: 0.6730 - loss: 1.3866\n",
      "Epoch 44/80\n",
      "\u001b[1m3809/3809\u001b[0m \u001b[32m━━━━━━━━━━━━━━━━━━━━\u001b[0m\u001b[37m\u001b[0m \u001b[1m67s\u001b[0m 18ms/step - accuracy: 0.6719 - loss: 1.3823\n",
      "Epoch 45/80\n",
      "\u001b[1m3809/3809\u001b[0m \u001b[32m━━━━━━━━━━━━━━━━━━━━\u001b[0m\u001b[37m\u001b[0m \u001b[1m82s\u001b[0m 18ms/step - accuracy: 0.6786 - loss: 1.3591\n",
      "Epoch 46/80\n",
      "\u001b[1m3809/3809\u001b[0m \u001b[32m━━━━━━━━━━━━━━━━━━━━\u001b[0m\u001b[37m\u001b[0m \u001b[1m68s\u001b[0m 18ms/step - accuracy: 0.6795 - loss: 1.3526\n",
      "Epoch 47/80\n",
      "\u001b[1m3809/3809\u001b[0m \u001b[32m━━━━━━━━━━━━━━━━━━━━\u001b[0m\u001b[37m\u001b[0m \u001b[1m68s\u001b[0m 18ms/step - accuracy: 0.6837 - loss: 1.3363\n",
      "Epoch 48/80\n",
      "\u001b[1m3809/3809\u001b[0m \u001b[32m━━━━━━━━━━━━━━━━━━━━\u001b[0m\u001b[37m\u001b[0m \u001b[1m68s\u001b[0m 18ms/step - accuracy: 0.6852 - loss: 1.3246\n",
      "Epoch 49/80\n",
      "\u001b[1m3809/3809\u001b[0m \u001b[32m━━━━━━━━━━━━━━━━━━━━\u001b[0m\u001b[37m\u001b[0m \u001b[1m81s\u001b[0m 18ms/step - accuracy: 0.6884 - loss: 1.3126\n",
      "Epoch 50/80\n",
      "\u001b[1m3809/3809\u001b[0m \u001b[32m━━━━━━━━━━━━━━━━━━━━\u001b[0m\u001b[37m\u001b[0m \u001b[1m68s\u001b[0m 18ms/step - accuracy: 0.6920 - loss: 1.2952\n",
      "Epoch 51/80\n",
      "\u001b[1m3809/3809\u001b[0m \u001b[32m━━━━━━━━━━━━━━━━━━━━\u001b[0m\u001b[37m\u001b[0m \u001b[1m69s\u001b[0m 18ms/step - accuracy: 0.6918 - loss: 1.2964\n",
      "Epoch 52/80\n",
      "\u001b[1m3809/3809\u001b[0m \u001b[32m━━━━━━━━━━━━━━━━━━━━\u001b[0m\u001b[37m\u001b[0m \u001b[1m69s\u001b[0m 18ms/step - accuracy: 0.6958 - loss: 1.2761\n",
      "Epoch 53/80\n",
      "\u001b[1m3809/3809\u001b[0m \u001b[32m━━━━━━━━━━━━━━━━━━━━\u001b[0m\u001b[37m\u001b[0m \u001b[1m67s\u001b[0m 18ms/step - accuracy: 0.6957 - loss: 1.2698\n",
      "Epoch 54/80\n",
      "\u001b[1m3809/3809\u001b[0m \u001b[32m━━━━━━━━━━━━━━━━━━━━\u001b[0m\u001b[37m\u001b[0m \u001b[1m67s\u001b[0m 18ms/step - accuracy: 0.6972 - loss: 1.2626\n",
      "Epoch 55/80\n",
      "\u001b[1m3809/3809\u001b[0m \u001b[32m━━━━━━━━━━━━━━━━━━━━\u001b[0m\u001b[37m\u001b[0m \u001b[1m82s\u001b[0m 18ms/step - accuracy: 0.6981 - loss: 1.2559\n",
      "Epoch 56/80\n",
      "\u001b[1m3809/3809\u001b[0m \u001b[32m━━━━━━━━━━━━━━━━━━━━\u001b[0m\u001b[37m\u001b[0m \u001b[1m68s\u001b[0m 18ms/step - accuracy: 0.6992 - loss: 1.2403\n",
      "Epoch 57/80\n",
      "\u001b[1m3809/3809\u001b[0m \u001b[32m━━━━━━━━━━━━━━━━━━━━\u001b[0m\u001b[37m\u001b[0m \u001b[1m67s\u001b[0m 18ms/step - accuracy: 0.7044 - loss: 1.2320\n",
      "Epoch 58/80\n",
      "\u001b[1m3809/3809\u001b[0m \u001b[32m━━━━━━━━━━━━━━━━━━━━\u001b[0m\u001b[37m\u001b[0m \u001b[1m67s\u001b[0m 18ms/step - accuracy: 0.7053 - loss: 1.2235\n",
      "Epoch 59/80\n",
      "\u001b[1m3809/3809\u001b[0m \u001b[32m━━━━━━━━━━━━━━━━━━━━\u001b[0m\u001b[37m\u001b[0m \u001b[1m67s\u001b[0m 18ms/step - accuracy: 0.7066 - loss: 1.2180\n",
      "Epoch 60/80\n",
      "\u001b[1m3809/3809\u001b[0m \u001b[32m━━━━━━━━━━━━━━━━━━━━\u001b[0m\u001b[37m\u001b[0m \u001b[1m68s\u001b[0m 18ms/step - accuracy: 0.7065 - loss: 1.2174\n",
      "Epoch 61/80\n",
      "\u001b[1m3809/3809\u001b[0m \u001b[32m━━━━━━━━━━━━━━━━━━━━\u001b[0m\u001b[37m\u001b[0m \u001b[1m81s\u001b[0m 18ms/step - accuracy: 0.7068 - loss: 1.2080\n",
      "Epoch 62/80\n",
      "\u001b[1m3809/3809\u001b[0m \u001b[32m━━━━━━━━━━━━━━━━━━━━\u001b[0m\u001b[37m\u001b[0m \u001b[1m81s\u001b[0m 17ms/step - accuracy: 0.7084 - loss: 1.2021\n",
      "Epoch 63/80\n",
      "\u001b[1m3809/3809\u001b[0m \u001b[32m━━━━━━━━━━━━━━━━━━━━\u001b[0m\u001b[37m\u001b[0m \u001b[1m66s\u001b[0m 17ms/step - accuracy: 0.7099 - loss: 1.1992\n",
      "Epoch 64/80\n",
      "\u001b[1m3809/3809\u001b[0m \u001b[32m━━━━━━━━━━━━━━━━━━━━\u001b[0m\u001b[37m\u001b[0m \u001b[1m66s\u001b[0m 17ms/step - accuracy: 0.7125 - loss: 1.1860\n",
      "Epoch 65/80\n",
      "\u001b[1m3809/3809\u001b[0m \u001b[32m━━━━━━━━━━━━━━━━━━━━\u001b[0m\u001b[37m\u001b[0m \u001b[1m67s\u001b[0m 18ms/step - accuracy: 0.7119 - loss: 1.1832\n",
      "Epoch 66/80\n",
      "\u001b[1m3809/3809\u001b[0m \u001b[32m━━━━━━━━━━━━━━━━━━━━\u001b[0m\u001b[37m\u001b[0m \u001b[1m66s\u001b[0m 17ms/step - accuracy: 0.7148 - loss: 1.1739\n",
      "Epoch 67/80\n",
      "\u001b[1m3809/3809\u001b[0m \u001b[32m━━━━━━━━━━━━━━━━━━━━\u001b[0m\u001b[37m\u001b[0m \u001b[1m82s\u001b[0m 17ms/step - accuracy: 0.7174 - loss: 1.1648\n",
      "Epoch 68/80\n",
      "\u001b[1m3809/3809\u001b[0m \u001b[32m━━━━━━━━━━━━━━━━━━━━\u001b[0m\u001b[37m\u001b[0m \u001b[1m82s\u001b[0m 17ms/step - accuracy: 0.7171 - loss: 1.1655\n",
      "Epoch 69/80\n",
      "\u001b[1m3809/3809\u001b[0m \u001b[32m━━━━━━━━━━━━━━━━━━━━\u001b[0m\u001b[37m\u001b[0m \u001b[1m67s\u001b[0m 18ms/step - accuracy: 0.7206 - loss: 1.1515\n",
      "Epoch 70/80\n",
      "\u001b[1m3809/3809\u001b[0m \u001b[32m━━━━━━━━━━━━━━━━━━━━\u001b[0m\u001b[37m\u001b[0m \u001b[1m82s\u001b[0m 17ms/step - accuracy: 0.7208 - loss: 1.1465\n",
      "Epoch 71/80\n",
      "\u001b[1m3809/3809\u001b[0m \u001b[32m━━━━━━━━━━━━━━━━━━━━\u001b[0m\u001b[37m\u001b[0m \u001b[1m67s\u001b[0m 18ms/step - accuracy: 0.7214 - loss: 1.1404\n",
      "Epoch 72/80\n",
      "\u001b[1m3809/3809\u001b[0m \u001b[32m━━━━━━━━━━━━━━━━━━━━\u001b[0m\u001b[37m\u001b[0m \u001b[1m66s\u001b[0m 17ms/step - accuracy: 0.7213 - loss: 1.1381\n",
      "Epoch 73/80\n",
      "\u001b[1m3809/3809\u001b[0m \u001b[32m━━━━━━━━━━━━━━━━━━━━\u001b[0m\u001b[37m\u001b[0m \u001b[1m83s\u001b[0m 18ms/step - accuracy: 0.7228 - loss: 1.1347\n",
      "Epoch 74/80\n",
      "\u001b[1m3809/3809\u001b[0m \u001b[32m━━━━━━━━━━━━━━━━━━━━\u001b[0m\u001b[37m\u001b[0m \u001b[1m67s\u001b[0m 18ms/step - accuracy: 0.7212 - loss: 1.1303\n",
      "Epoch 75/80\n",
      "\u001b[1m3809/3809\u001b[0m \u001b[32m━━━━━━━━━━━━━━━━━━━━\u001b[0m\u001b[37m\u001b[0m \u001b[1m82s\u001b[0m 18ms/step - accuracy: 0.7218 - loss: 1.1348\n",
      "Epoch 76/80\n",
      "\u001b[1m3809/3809\u001b[0m \u001b[32m━━━━━━━━━━━━━━━━━━━━\u001b[0m\u001b[37m\u001b[0m \u001b[1m67s\u001b[0m 18ms/step - accuracy: 0.7257 - loss: 1.1204\n",
      "Epoch 77/80\n",
      "\u001b[1m3809/3809\u001b[0m \u001b[32m━━━━━━━━━━━━━━━━━━━━\u001b[0m\u001b[37m\u001b[0m \u001b[1m67s\u001b[0m 18ms/step - accuracy: 0.7281 - loss: 1.1117\n",
      "Epoch 78/80\n",
      "\u001b[1m3809/3809\u001b[0m \u001b[32m━━━━━━━━━━━━━━━━━━━━\u001b[0m\u001b[37m\u001b[0m \u001b[1m82s\u001b[0m 18ms/step - accuracy: 0.7266 - loss: 1.1131\n",
      "Epoch 79/80\n",
      "\u001b[1m3809/3809\u001b[0m \u001b[32m━━━━━━━━━━━━━━━━━━━━\u001b[0m\u001b[37m\u001b[0m \u001b[1m82s\u001b[0m 18ms/step - accuracy: 0.7263 - loss: 1.1072\n",
      "Epoch 80/80\n",
      "\u001b[1m3809/3809\u001b[0m \u001b[32m━━━━━━━━━━━━━━━━━━━━\u001b[0m\u001b[37m\u001b[0m \u001b[1m67s\u001b[0m 18ms/step - accuracy: 0.7244 - loss: 1.1120\n"
     ]
    },
    {
     "data": {
      "text/plain": [
       "<keras.src.callbacks.history.History at 0x7cad53746c50>"
      ]
     },
     "execution_count": 5,
     "metadata": {},
     "output_type": "execute_result"
    }
   ],
   "source": [
    "model.compile(loss='categorical_crossentropy', optimizer='adam', metrics=['accuracy'])\n",
    "model.fit(X, y, epochs=80, verbose=1)\n",
    "\n"
   ]
  },
  {
   "cell_type": "code",
   "execution_count": 6,
   "id": "998c548f",
   "metadata": {
    "execution": {
     "iopub.execute_input": "2024-09-07T14:49:56.537794Z",
     "iopub.status.busy": "2024-09-07T14:49:56.537068Z",
     "iopub.status.idle": "2024-09-07T14:50:00.815130Z",
     "shell.execute_reply": "2024-09-07T14:50:00.813381Z"
    },
    "papermill": {
     "duration": 13.847303,
     "end_time": "2024-09-07T14:50:00.818132",
     "exception": false,
     "start_time": "2024-09-07T14:49:46.970829",
     "status": "completed"
    },
    "tags": []
   },
   "outputs": [
    {
     "name": "stdout",
     "output_type": "stream",
     "text": [
      " It is a truth universally acknowledged that it is only reply and too eager to pardon him i would not have been so much through the same parish and to see a girl whom chiefly as soon as she made go was sure over her mother’s thoughts had been produced\n"
     ]
    }
   ],
   "source": [
    "input_text = \" It is a truth universally\"\n",
    "predict_next_words = 45\n",
    "\n",
    "\n",
    "for _ in range(predict_next_words):\n",
    "    input_sequence = tokenizer.texts_to_sequences([input_text])[0]\n",
    "    \n",
    "    input_sequence = input_sequence[-5:]\n",
    "    \n",
    "    input_sequence = np.array(input_sequence).reshape(1, -1)\n",
    "    \n",
    "    predicted_prob = model.predict(input_sequence, verbose=0)\n",
    "    predicted_index = np.argmax(predicted_prob, axis=-1)\n",
    "    \n",
    "    output_word = \"\"\n",
    "    for word, index in tokenizer.word_index.items():\n",
    "        if index == predicted_index:\n",
    "            output_word = word\n",
    "            break\n",
    "    \n",
    "    if output_word == \"\":\n",
    "        print(\"Aucun mot prédit trouvé.\")\n",
    "        break\n",
    "    \n",
    "    input_text += \" \" + output_word\n",
    "\n",
    "print(input_text)"
   ]
  },
  {
   "cell_type": "code",
   "execution_count": null,
   "id": "d93695d6",
   "metadata": {
    "papermill": {
     "duration": 9.478638,
     "end_time": "2024-09-07T14:50:19.910685",
     "exception": false,
     "start_time": "2024-09-07T14:50:10.432047",
     "status": "completed"
    },
    "tags": []
   },
   "outputs": [],
   "source": []
  },
  {
   "cell_type": "code",
   "execution_count": null,
   "id": "0bded55c",
   "metadata": {
    "papermill": {
     "duration": 9.429577,
     "end_time": "2024-09-07T14:50:38.920309",
     "exception": false,
     "start_time": "2024-09-07T14:50:29.490732",
     "status": "completed"
    },
    "tags": []
   },
   "outputs": [],
   "source": []
  }
 ],
 "metadata": {
  "kaggle": {
   "accelerator": "none",
   "dataSources": [
    {
     "datasetId": 1357760,
     "sourceId": 2256379,
     "sourceType": "datasetVersion"
    }
   ],
   "isGpuEnabled": false,
   "isInternetEnabled": true,
   "language": "python",
   "sourceType": "notebook"
  },
  "kernelspec": {
   "display_name": "Python 3",
   "language": "python",
   "name": "python3"
  },
  "language_info": {
   "codemirror_mode": {
    "name": "ipython",
    "version": 3
   },
   "file_extension": ".py",
   "mimetype": "text/x-python",
   "name": "python",
   "nbconvert_exporter": "python",
   "pygments_lexer": "ipython3",
   "version": "3.10.14"
  },
  "papermill": {
   "default_parameters": {},
   "duration": 5860.932416,
   "end_time": "2024-09-07T14:50:50.471368",
   "environment_variables": {},
   "exception": null,
   "input_path": "__notebook__.ipynb",
   "output_path": "__notebook__.ipynb",
   "parameters": {},
   "start_time": "2024-09-07T13:13:09.538952",
   "version": "2.6.0"
  }
 },
 "nbformat": 4,
 "nbformat_minor": 5
}
